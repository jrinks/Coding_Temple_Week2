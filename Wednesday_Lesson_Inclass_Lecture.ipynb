{
 "cells": [
  {
   "cell_type": "markdown",
   "metadata": {
    "id": "yo26Owxp04IB"
   },
   "source": [
    "# Data Collections 2 (Dictionaries, Sets) and Importing Modules"
   ]
  },
  {
   "cell_type": "markdown",
   "metadata": {
    "id": "I5_L3nIy04IK"
   },
   "source": [
    "## Tasks Today:\n",
    "\n",
    "1) Dictionary <br>\n",
    " &nbsp;&nbsp;&nbsp;&nbsp; a) Declaring (key, value) <br>\n",
    " &nbsp;&nbsp;&nbsp;&nbsp; b) Accessing Values <br>\n",
    " &nbsp;&nbsp;&nbsp;&nbsp; ------ Exercise #1 - Print the eye color of each person in a double nested dict <br>\n",
    " &nbsp;&nbsp;&nbsp;&nbsp; c) Adding New Pairs <br>\n",
    " &nbsp;&nbsp;&nbsp;&nbsp; d) Modifying Values <br>\n",
    " &nbsp;&nbsp;&nbsp;&nbsp; e) Removing Key, Value Pairs <br>\n",
    " &nbsp;&nbsp;&nbsp;&nbsp; f) Looping a Dictionary <br>\n",
    " &nbsp;&nbsp;&nbsp;&nbsp; g) Looping Only Keys <br>\n",
    " &nbsp;&nbsp;&nbsp;&nbsp; h) Looping Only Values <br>\n",
    " &nbsp;&nbsp;&nbsp;&nbsp; ------ Exercise #2 - Create a Function that Prints All Key Value Pairs within a print .format()  <br>\n",
    " &nbsp;&nbsp;&nbsp;&nbsp; i) sorted() <br>\n",
    " &nbsp;&nbsp;&nbsp;&nbsp; j) Lists with Dictionaries <br>\n",
    " &nbsp;&nbsp;&nbsp;&nbsp; k) Dictionaries with Lists <br>\n",
    " &nbsp;&nbsp;&nbsp;&nbsp; l) Dictionaries with Dictionaries <br>\n",
    " &nbsp;&nbsp;&nbsp;&nbsp; ------ Exercise #3 - Write a Function that asks someone's name and address, and then stores that into a dictionary, which prints all names and addresses after they're done putting information in...  <br>\n",
    "2) Dictionaries vs. Lists (over time)<br>\n",
    "3) Set <br>\n",
    " &nbsp;&nbsp;&nbsp;&nbsp; a) Declaring <br>\n",
    " &nbsp;&nbsp;&nbsp;&nbsp; b) .add() <br>\n",
    " &nbsp;&nbsp;&nbsp;&nbsp; c) .remove() <br>\n",
    " &nbsp;&nbsp;&nbsp;&nbsp; d) .union() <br>\n",
    " &nbsp;&nbsp;&nbsp;&nbsp; e) .intersection() <br>\n",
    " &nbsp;&nbsp;&nbsp;&nbsp; f) .difference() <br>\n",
    " &nbsp;&nbsp;&nbsp;&nbsp; g) Frozen Set <br>\n",
    "4) Modules <br>\n",
    " &nbsp;&nbsp;&nbsp;&nbsp; a) Importing Entire Modules <br>\n",
    " &nbsp;&nbsp;&nbsp;&nbsp; b) Importing Methods Only <br>\n",
    " &nbsp;&nbsp;&nbsp;&nbsp; c) Using the 'as' Keyword <br>\n",
    " &nbsp;&nbsp;&nbsp;&nbsp; d) Creating a Module <br>\n",
    "5) Exercises <br>\n",
    " &nbsp;&nbsp;&nbsp;&nbsp; a) Build a Shopping Cart <br>\n",
    " &nbsp;&nbsp;&nbsp;&nbsp; b) Create Your Own Module <br>"
   ]
  },
  {
   "cell_type": "markdown",
   "metadata": {
    "id": "ucf34cR904IN"
   },
   "source": [
    "## Dictionary <br>\n",
    "<p>A collection of data with 'key:value' pairs. Dictionaries are ordered as of Python 3.6</p>"
   ]
  },
  {
   "cell_type": "markdown",
   "metadata": {
    "id": "g4zI9TvK04IO"
   },
   "source": [
    "##### Declaring (key, value)"
   ]
  },
  {
   "cell_type": "code",
   "execution_count": 19,
   "metadata": {
    "id": "IT2aNSwM04IP"
   },
   "outputs": [
    {
     "name": "stdout",
     "output_type": "stream",
     "text": [
      "<class 'dict'>\n",
      "<class 'dict'>\n",
      "{'dave': '255 state street', 'sidhartha': '310 lotus street', 'Naoto': '830 cirle street', 'Hillary': '777 paradise street'}\n",
      "<class 'dict'>\n"
     ]
    }
   ],
   "source": [
    "# key should be unique\n",
    "# use numbers or strings\n",
    "# think about row of key values in a table\n",
    "d1 = {}\n",
    "print(type(d1))\n",
    "# you can also declare a dictionary using dict keywork\n",
    "d2 = dict()\n",
    "print(type(d2))\n",
    "\n",
    "d3 = {\"dave\": \"255 state street\",\n",
    "     \"sidhartha\": \"310 lotus street\",\n",
    "     \"Naoto\": \"830 cirle street\",\n",
    "     \"Hillary\": \"777 paradise street\"}\n",
    "print(d3)\n",
    "print(type(d3))"
   ]
  },
  {
   "cell_type": "markdown",
   "metadata": {
    "id": "_uUADfGU04IQ"
   },
   "source": [
    "##### Accessing Values"
   ]
  },
  {
   "cell_type": "code",
   "execution_count": 20,
   "metadata": {
    "id": "Flo2pZmT04IR"
   },
   "outputs": [
    {
     "name": "stdout",
     "output_type": "stream",
     "text": [
      "255 state street\n",
      "777 paradise street\n"
     ]
    }
   ],
   "source": [
    "# call name of dictionary\n",
    "# in square brackets put in the key (instead of the index number)\n",
    "print(d3[\"dave\"])\n",
    "print(d3[\"Hillary\"])\n",
    "# below doesn't work cuz you can't use index on dicts\n",
    "# if you set your key to a number, then you could use this\n",
    "# but it still wouldn't be a dict\n",
    "# print(d3[0])\n",
    "\n"
   ]
  },
  {
   "cell_type": "markdown",
   "metadata": {
    "id": "O0Sk66ul04IR"
   },
   "source": [
    "## In-Class Exercise #1 - Print a formatted statement from the dictionary below <br>\n",
    "<p>The output should be '2018 Chevrolet Silverado'</p>"
   ]
  },
  {
   "cell_type": "code",
   "execution_count": 38,
   "metadata": {
    "id": "oHyenXjN04IS"
   },
   "outputs": [
    {
     "ename": "SyntaxError",
     "evalue": "invalid syntax (<ipython-input-38-6d1b4737195e>, line 9)",
     "output_type": "error",
     "traceback": [
      "\u001b[1;36m  File \u001b[1;32m\"<ipython-input-38-6d1b4737195e>\"\u001b[1;36m, line \u001b[1;32m9\u001b[0m\n\u001b[1;33m    print(f\"{truck[\"year\"]} {truck[\"make\"]} {truck[\"model\"]}\")\u001b[0m\n\u001b[1;37m                    ^\u001b[0m\n\u001b[1;31mSyntaxError\u001b[0m\u001b[1;31m:\u001b[0m invalid syntax\n"
     ]
    }
   ],
   "source": [
    "# use the dict below\n",
    "truck = {\n",
    "    'year': 2018,\n",
    "    'make': 'Chevrolet',\n",
    "    'model': 'Silverado'\n",
    "}\n",
    "\n",
    "print(\"my favorite car is a \" +str(truck[\"year\"])+ \" \"+(truck[\"make\"]) +  \" \"+(truck[\"model\"]))\n",
    "print(f\"{truck[\"year\"]} {truck[\"make\"]} {truck[\"model\"]}\")\n"
   ]
  },
  {
   "cell_type": "markdown",
   "metadata": {
    "id": "oHZdlH-h04IT"
   },
   "source": [
    "##### Adding New Pairs"
   ]
  },
  {
   "cell_type": "code",
   "execution_count": null,
   "metadata": {
    "id": "OP3htN5G04IU"
   },
   "outputs": [],
   "source": []
  },
  {
   "cell_type": "markdown",
   "metadata": {
    "id": "8lELOMHy04IX"
   },
   "source": [
    "##### Modifying Values"
   ]
  },
  {
   "cell_type": "code",
   "execution_count": 21,
   "metadata": {
    "id": "9FxQ26YE04IX"
   },
   "outputs": [
    {
     "name": "stdout",
     "output_type": "stream",
     "text": [
      "{'dave': '255 state street', 'sidhartha': '310 lotus street', 'Naoto': '830 cirle street', 'Hillary': '777 paradise street'}\n",
      "not in\n"
     ]
    }
   ],
   "source": [
    "d3 = {\"dave\": \"255 state street\",\n",
    "     \"sidhartha\": \"310 lotus street\",\n",
    "     \"Naoto\": \"830 cirle street\",\n",
    "     \"Hillary\": \"777 paradise street\"}\n",
    "print(d3)\n",
    "if \"megan\" in d3:\n",
    "    print(\"in\")\n",
    "else:\n",
    "    print(\"not in\")\n"
   ]
  },
  {
   "cell_type": "markdown",
   "metadata": {
    "id": "QEy3PhqG04IY"
   },
   "source": [
    "##### Removing Key, Value Pairs"
   ]
  },
  {
   "cell_type": "code",
   "execution_count": 49,
   "metadata": {
    "id": "FrD9pc2B04IY"
   },
   "outputs": [
    {
     "name": "stdout",
     "output_type": "stream",
     "text": [
      "{'dave': '255 state street', 'sidhartha': '310 lotus street', 'Naoto': '830 cirle street', 'Hillary': '777 awesome street Signal Mountain TN Signal Mountain TN'}\n",
      "{'dave': '255 state street', 'sidhartha': '310 lotus street', 'Naoto': '830 cirle street', 'Hillary': '777 awesome street Signal Mountain TN'}\n",
      "{'dave': '255 state street', 'sidhartha': '310 lotus street', 'Hillary': '777 awesome street Signal Mountain TN'}\n"
     ]
    }
   ],
   "source": [
    "d3[\"Hillary\"] = d3[\"Hillary\"] + \" Signal Mountain TN\"\n",
    "print(d3)\n",
    "d3[\"Hillary\"] = \"777 awesome street Signal Mountain TN\"\n",
    "print(d3)\n",
    "\n",
    "#what if I don't like Naoto anymore\n",
    "del d3[\"Naoto\"]\n",
    "print(d3)\n",
    "\n"
   ]
  },
  {
   "cell_type": "markdown",
   "metadata": {
    "id": "Hg6mPtcp04IZ"
   },
   "source": [
    "##### Looping a Dictionary"
   ]
  },
  {
   "cell_type": "code",
   "execution_count": 50,
   "metadata": {
    "id": "aDh40nsY04IZ"
   },
   "outputs": [
    {
     "name": "stdout",
     "output_type": "stream",
     "text": [
      "dave 255 state street\n",
      "sidhartha 310 lotus street\n",
      "Hillary 777 awesome street Signal Mountain TN\n"
     ]
    }
   ],
   "source": [
    "# dictionairies are ordered as of python 3.6\n",
    "\n",
    "for key, value in d3.items():\n",
    "    print(key,value)\n",
    "# this returns a list of tuples\n",
    "\n",
    "\n"
   ]
  },
  {
   "cell_type": "markdown",
   "metadata": {
    "id": "fM6c0kJb04Ia"
   },
   "source": [
    "##### Looping Only Keys"
   ]
  },
  {
   "cell_type": "code",
   "execution_count": 51,
   "metadata": {
    "id": "jvpAZ5Tk04Ia"
   },
   "outputs": [
    {
     "name": "stdout",
     "output_type": "stream",
     "text": [
      "dave\n",
      "sidhartha\n",
      "Hillary\n"
     ]
    }
   ],
   "source": [
    "# .keys()\n",
    "for key in d3.keys():\n",
    "    print(key)\n",
    "\n"
   ]
  },
  {
   "cell_type": "markdown",
   "metadata": {
    "id": "HzEK3GbK04Ib"
   },
   "source": [
    "##### Looping Only Values"
   ]
  },
  {
   "cell_type": "code",
   "execution_count": null,
   "metadata": {
    "id": "vc5Pc7cr04Ib"
   },
   "outputs": [],
   "source": [
    "# .values()\n",
    "\n",
    "for value in d3.values():\n",
    "    print(value)"
   ]
  },
  {
   "cell_type": "markdown",
   "metadata": {
    "id": "0TQnLXNx04Ib"
   },
   "source": [
    "## In-Class Exercise #2 - Create a Function that Prints All Key Value Pairs within a print .format() <br>\n",
    "<p><b>Output should be:</b><br>\n",
    "Max has blue eyes<br>\n",
    "Lilly has brown eyes<br>\n",
    "Barney has blue eyes<br>\n",
    "etc.\n",
    "</p>"
   ]
  },
  {
   "cell_type": "code",
   "execution_count": 52,
   "metadata": {
    "id": "goShkjn504Ic"
   },
   "outputs": [
    {
     "name": "stdout",
     "output_type": "stream",
     "text": [
      "Max has blue eyes\n",
      "Lilly has brown eyes\n",
      "Barney has blue eyes\n",
      "Larney has brown eyes\n",
      "Ted has purple eyes\n"
     ]
    }
   ],
   "source": [
    "# use the dict below\n",
    "\n",
    "people = {\n",
    "    'Max': 'blue',\n",
    "    'Lilly': 'brown',\n",
    "    'Barney': 'blue',\n",
    "    'Larney': 'brown',\n",
    "    'Ted': 'purple'\n",
    "}\n",
    "\n",
    "for key, value in people.items():\n",
    "    print(f\"{key} has {value} eyes\")"
   ]
  },
  {
   "cell_type": "markdown",
   "metadata": {
    "id": "dh6nusKf04Ic"
   },
   "source": [
    "##### sorted()"
   ]
  },
  {
   "cell_type": "code",
   "execution_count": 58,
   "metadata": {
    "id": "z16Sm-k104Id"
   },
   "outputs": [
    {
     "name": "stdout",
     "output_type": "stream",
     "text": [
      "[('Barney', 'blue'), ('Larney', 'brown'), ('Lilly', 'brown'), ('Max', 'blue'), ('Ted', 'purple')]\n",
      "['Barney', 'Larney', 'Lilly', 'Max', 'Ted']\n",
      "['blue', 'blue', 'brown', 'brown', 'purple']\n"
     ]
    }
   ],
   "source": [
    "# sorts variables in order\n",
    "# sorted(dict.values()) or dict.keys() or dict.items()\n",
    "people = {\n",
    "    'Max': 'blue',\n",
    "    'Lilly': 'brown',\n",
    "    'Barney': 'blue',\n",
    "    'Larney': 'brown',\n",
    "    'Ted': 'purple'}\n",
    "\n",
    "# .items sorts on first letter of the key and returns botht he key and the value\n",
    "print(sorted(people.items()))\n",
    "# .keys sorts on the key and returns the keys\n",
    "print(sorted(people.keys()))\n",
    "# .values sorts on the value and returns the values\n",
    "print(sorted(people.values()))"
   ]
  },
  {
   "cell_type": "markdown",
   "metadata": {
    "id": "AjSDRytN04Id"
   },
   "source": [
    "##### List with Dictionaries"
   ]
  },
  {
   "cell_type": "code",
   "execution_count": 78,
   "metadata": {
    "id": "BPZ-qmEb04Ie"
   },
   "outputs": [
    {
     "name": "stdout",
     "output_type": "stream",
     "text": [
      "['Becky', 'Laura', {'Max': 'blue', 'Lilly': 'brown', 'Barney': 'blue', 'Larney': 'brown', 'Ted': 'purple'}]\n",
      "<class 'list'>\n",
      "Becky\n",
      "{'Max': 'blue', 'Lilly': 'brown', 'Barney': 'blue', 'Larney': 'brown', 'Ted': 'purple'}\n",
      "keys is Max\n",
      "keys is Lilly\n",
      "keys is Barney\n",
      "keys is Larney\n",
      "keys is Ted\n",
      "value is blue\n",
      "value is brown\n",
      "value is blue\n",
      "value is brown\n",
      "value is purple\n",
      "{'Max': ['blue', 'white'], 'Lilly': ['blue', 'white'], 'Barney': ['yellow', 'white'], 'Larney': ['pink', 'green'], 'Ted': ['red', 'blue']}\n",
      "blue\n"
     ]
    }
   ],
   "source": [
    "names = [\"Becky\", \"Laura\", {\n",
    "    'Max': 'blue',\n",
    "    'Lilly': 'brown',\n",
    "    'Barney': 'blue',\n",
    "    'Larney': 'brown',\n",
    "    'Ted': 'purple'}]\n",
    "\n",
    "print(names)\n",
    "print(type(names))\n",
    "print(names[0])\n",
    "print(names[2])\n",
    "for key in names[2].keys():\n",
    "    print(\"keys is \" +key)\n",
    "for value in names[2].values():\n",
    "    print(\"value is \" +value)\n",
    "\n",
    "    \n"
   ]
  },
  {
   "cell_type": "markdown",
   "metadata": {
    "id": "jIk47vnB04Ie"
   },
   "source": [
    "##### Dictionaries with Lists"
   ]
  },
  {
   "cell_type": "code",
   "execution_count": 79,
   "metadata": {
    "id": "PNgEEsJP04Ie"
   },
   "outputs": [
    {
     "name": "stdout",
     "output_type": "stream",
     "text": [
      "{'Max': ['blue', 'white'], 'Lilly': ['blue', 'white'], 'Barney': ['yellow', 'white'], 'Larney': ['pink', 'green'], 'Ted': ['red', 'blue']}\n",
      "blue\n"
     ]
    }
   ],
   "source": [
    "# be careful when using numbers as keys in dictionaries, don't confuse them with indexes\n",
    "names2 = {\n",
    "    'Max': ['blue', 'white'],\n",
    "    'Lilly': ['blue', 'white'],\n",
    "    'Barney': ['yellow', 'white'],\n",
    "    'Larney': ['pink', 'green'],\n",
    "    'Ted': ['red', 'blue']}\n",
    "print(names2)\n",
    "print(names2[\"Ted\"][1])"
   ]
  },
  {
   "cell_type": "markdown",
   "metadata": {
    "id": "LlnDFquC04If"
   },
   "source": [
    "##### Dictionaries with Dictionaries"
   ]
  },
  {
   "cell_type": "code",
   "execution_count": 88,
   "metadata": {
    "id": "GdUm6prc04If"
   },
   "outputs": [
    {
     "name": "stdout",
     "output_type": "stream",
     "text": [
      "{'icecream': {'chocolate': 3.99, 'vanilla': 4.99, 'oreo': 5.99}, 'burgers': {'hamburger': 3.99, 'cheeseburger': 4.99, 'beyondburger': 5.99}}\n",
      "5.99\n"
     ]
    }
   ],
   "source": [
    "# to get values, must traverse through keys\n",
    "foods = {\n",
    "    \"icecream\":{\n",
    "        \"chocolate\" : 3.99,\n",
    "        \"vanilla\" : 4.99,\n",
    "        \"oreo\" : 5.99},\n",
    "    \"burgers\":{\n",
    "        \"hamburger\" : 3.99,\n",
    "        \"cheeseburger\" : 4.99,\n",
    "        \"beyondburger\" : 5.99}\n",
    "    }\n",
    "\n",
    "# something about recurisve goes here, look at Updated notes\n",
    "\n",
    "print(foods)\n",
    "print(foods[\"icecream\"][\"oreo\"])\n",
    "print(foods[\"\"])\n"
   ]
  },
  {
   "cell_type": "markdown",
   "metadata": {
    "id": "yvPcr8YX04Ig"
   },
   "source": [
    "## Dictionaries vs. Lists (over time) Example of RUNTIME\n",
    "### When inputting values in a Dictionary vs List"
   ]
  },
  {
   "cell_type": "code",
   "execution_count": 90,
   "metadata": {
    "id": "_F9YTkkw04Ig"
   },
   "outputs": [],
   "source": [
    "# import python module time\n",
    "import time\n",
    "\n",
    "\n",
    "# generate fake dictionary\n",
    "d = {}\n",
    "\n",
    "for i in range(10000000):\n",
    "    d[i] = 'value'\n",
    "    \n",
    "\n",
    "# generate fake list\n",
    "big_list = [x for x in range(10000000)]"
   ]
  },
  {
   "cell_type": "code",
   "execution_count": 91,
   "metadata": {
    "id": "oTz2d0pB04Ig"
   },
   "outputs": [
    {
     "name": "stdout",
     "output_type": "stream",
     "text": [
      "value\n",
      "Elapsed time for dictionary: 0.0\n",
      "9999999\n",
      "Elapsed time for list: 1.0600123405456543\n"
     ]
    }
   ],
   "source": [
    "# tracking time for dictionary\n",
    "start_time = time.time()\n",
    "\n",
    "print(d[9999999])\n",
    "\n",
    "end_time = time.time() - start_time\n",
    "\n",
    "print('Elapsed time for dictionary: {}'.format(end_time))\n",
    "\n",
    "# dictionairies take less time than lists\n",
    "# think of a list as an apartment building and to find the \n",
    "# person you'd have to check every apartment\n",
    "# whereas as dictionariy is more like having a very specific\n",
    "# address for a specific person (or piece of inforomation)\n",
    "# a list is like a multi unit building with no unit numbers\n",
    "# a dictionary is like single family homes scattered around \n",
    "# with specific addresses so we can go right to them\n",
    "\n",
    "# tracking time for list\n",
    "start_time = time.time()\n",
    "\n",
    "for i in range(len(big_list)):\n",
    "    if i == 9999999:\n",
    "        print(i)\n",
    "\n",
    "end_time = time.time() - start_time\n",
    "\n",
    "print('Elapsed time for list: {}'.format(end_time))"
   ]
  },
  {
   "cell_type": "markdown",
   "metadata": {
    "id": "_43_dPCf04Ih"
   },
   "source": [
    "## Exercise #3 - Write a Function that asks someone's name and address, and then stores that into a dictionary, and continues to do so until they choose to 'quit'. Once they quit, the program should print all names and addresses. <br>\n",
    "<p>\n",
    "<b>Proper steps:</b><br>\n",
    "step 1: write a function that takes in information and stores it in a dictionary<br>\n",
    "step 2: define an empty dictionary to work with<br>\n",
    "step 3: create our loop, which asks the user for information until they quit<br>\n",
    "step 4: ask for the information, and store it into variables<br>\n",
    "step 5: check if the user types quit<br>\n",
    "step 5a: print out all information<br>\n",
    "step 5b: break out of the loop<br>\n",
    "step 6: if they didn't quit, add the information to the dictionary<br>\n",
    "step 7: invoke the function by calling it\n",
    "</p>"
   ]
  },
  {
   "cell_type": "code",
   "execution_count": 126,
   "metadata": {
    "id": "hsTbftb204Ii"
   },
   "outputs": [
    {
     "name": "stdout",
     "output_type": "stream",
     "text": [
      "The address for jessica is jackson\n",
      "The address for nick is nickson\n"
     ]
    }
   ],
   "source": [
    "from IPython.display import clear_output\n",
    "\n",
    "# step 1\n",
    "def create_address_book():\n",
    "    # step 2\n",
    "    #address_book = {\"name\":[],\"address\":[]}\n",
    "    address_book = {}\n",
    "    # step 3\n",
    "    while True:\n",
    "        # step 4\n",
    "        n = input(\"What is the person's name?\")\n",
    "        a = input(\"What is the person's address\")\n",
    "        clear_output()\n",
    "        # step 5\n",
    "        if n.lower() == \"quit\" or a.lower() == \"quit\":\n",
    "            # print values\n",
    "            for key, value in address_book.items():\n",
    "                print(f\"The address for {key} is {value}\")\n",
    "            break\n",
    "        address_book[n] = a\n",
    "        \n",
    "       \n",
    "create_address_book()\n",
    "\n",
    "\n",
    "\n"
   ]
  },
  {
   "cell_type": "markdown",
   "metadata": {
    "id": "H1x5UntK04Ii"
   },
   "source": [
    "## Set <br>\n",
    "<p>A Set is an unordered collection data type that is iterable (loop), mutable, and has no duplicate elements.<br>Major advantage is that it is highly optimized in checking if something is in the set, as opposed to checking if something is in a list.</p>"
   ]
  },
  {
   "cell_type": "markdown",
   "metadata": {
    "id": "faQJfaBc04Ij"
   },
   "source": [
    "##### Declaring"
   ]
  },
  {
   "cell_type": "code",
   "execution_count": 130,
   "metadata": {
    "id": "XE57jkNj04Ij"
   },
   "outputs": [
    {
     "name": "stdout",
     "output_type": "stream",
     "text": [
      "<class 'dict'>\n",
      "{1, 4, 6}\n"
     ]
    },
    {
     "data": {
      "text/plain": [
       "set"
      ]
     },
     "execution_count": 130,
     "metadata": {},
     "output_type": "execute_result"
    }
   ],
   "source": [
    "# lists are ordered, sets are not\n",
    "# has no cuplicate elements!\n",
    "# two ways to declare a set\n",
    "# set() or {}\n",
    "# no order {3, 2, 1} outputs as {1, 2, 3}\n",
    "\n",
    "# technically set1 = {} creates an empty dict but once you populate it \n",
    "# it will turn into a set\n",
    "set1 = {}\n",
    "print(type(set1))\n",
    "set1 = {4, 1, 6}\n",
    "print(set1)\n",
    "type(set1)\n",
    "# set(put a list or list name in htere) "
   ]
  },
  {
   "cell_type": "markdown",
   "metadata": {
    "id": "eWOOWhAB04Ik"
   },
   "source": [
    "##### .add()"
   ]
  },
  {
   "cell_type": "code",
   "execution_count": 137,
   "metadata": {
    "id": "eK8RlPCW04Ik"
   },
   "outputs": [
    {
     "name": "stdout",
     "output_type": "stream",
     "text": [
      "{1, 4, 6}\n",
      "<class 'set'>\n",
      "{72, 1, 4, 6}\n"
     ]
    }
   ],
   "source": [
    "# set.add()\n",
    "# set has .add not .append\n",
    "# .append adds to end of the list but since our set\n",
    "# doesn't have an order, we use .add\n",
    "set1 = {4, 1, 6}\n",
    "print(set1)\n",
    "print(type(set1))\n",
    "set1.add(72)\n",
    "print(set1)\n",
    "\n",
    "# sets are fater than lists"
   ]
  },
  {
   "cell_type": "markdown",
   "metadata": {
    "id": "9MRP-n-Z04Ik"
   },
   "source": [
    "##### .remove()"
   ]
  },
  {
   "cell_type": "code",
   "execution_count": 138,
   "metadata": {
    "id": "5wJzsYJg04Ik"
   },
   "outputs": [
    {
     "name": "stdout",
     "output_type": "stream",
     "text": [
      "{1, 4, 6}\n"
     ]
    }
   ],
   "source": [
    "# removes by value\n",
    "# set.remove()\n",
    "# nums.remove(56)\n",
    "\n",
    "set1.remove(72)\n",
    "print(set1)"
   ]
  },
  {
   "cell_type": "markdown",
   "metadata": {
    "id": "1vYbY4rG04Il"
   },
   "source": [
    "##### .union() "
   ]
  },
  {
   "cell_type": "code",
   "execution_count": 143,
   "metadata": {
    "id": "eDf0olrj04Il"
   },
   "outputs": [
    {
     "name": "stdout",
     "output_type": "stream",
     "text": [
      "{1, 2, 3, 4, 5, 6}\n"
     ]
    }
   ],
   "source": [
    "# .union() .intersection() and .difference() is a way to compare two different sets\n",
    "# Returns a union of two sets, can also use '|' or set.union(set)\n",
    "# joins all numbers, gets rid of duplicates\n",
    "set3 = {1, 2, 3, 4}\n",
    "set4 = {3, 4, 5, 6}\n",
    "# two ways to do it\n",
    "# order does not matter when talking about union\n",
    "set5_union = set3.union(set4)\n",
    "print(set5_union)\n",
    "# alternative way to do it using pipes\n",
    "set5_union = set3 | set4\n"
   ]
  },
  {
   "cell_type": "markdown",
   "metadata": {
    "id": "ZHNkhMlW04Im"
   },
   "source": [
    "##### .intersection()"
   ]
  },
  {
   "cell_type": "code",
   "execution_count": 148,
   "metadata": {
    "id": "bMQanOv404Im"
   },
   "outputs": [
    {
     "name": "stdout",
     "output_type": "stream",
     "text": [
      "{3, 4}\n",
      "{3, 4}\n"
     ]
    }
   ],
   "source": [
    "# Returns an intersection of two sets, can also use '&'\n",
    "# only takes similar elements from both sets\n",
    "# order does not matter\n",
    "set3 = {1, 2, 3, 4}\n",
    "set4 = {3, 4, 5, 6}\n",
    "set5_intersection = set3.intersection(set4)\n",
    "print(set5_intersection)\n",
    "# or you can use the ampersand\n",
    "set5_intersection = set3 & set4\n",
    "print(set5_intersection)"
   ]
  },
  {
   "cell_type": "markdown",
   "metadata": {
    "id": "ubhk0ZdW04Im"
   },
   "source": [
    "##### .difference()"
   ]
  },
  {
   "cell_type": "code",
   "execution_count": 152,
   "metadata": {
    "id": "NRhsnDT304In"
   },
   "outputs": [
    {
     "name": "stdout",
     "output_type": "stream",
     "text": [
      "{1, 2}\n",
      "{5, 6}\n"
     ]
    }
   ],
   "source": [
    "# Returns a set containing all the elements of invoking set that are not in the second set, can also use '-'\n",
    "# only takes values from the first set that are not in the second set\n",
    "# order matters\n",
    "set3 = {1, 2, 3, 4}\n",
    "set4 = {3, 4, 5, 6}\n",
    "set5_difference = set3.difference(set4)\n",
    "set5_difference = set3 - set4\n",
    "print(set5_difference)\n",
    "# because it starts with set3 and removes any values that also appear in set4\n",
    "set5_difference = set4.difference(set3)\n",
    "print(set5_difference)\n",
    "set5_difference = set4 - set3\n",
    "# because it starts with set4 and remove things that also appear in set3\n"
   ]
  },
  {
   "cell_type": "markdown",
   "metadata": {
    "id": "dKl5OPGa04In"
   },
   "source": [
    "##### .clear()"
   ]
  },
  {
   "cell_type": "code",
   "execution_count": 154,
   "metadata": {
    "id": "PSouu9xy04Io"
   },
   "outputs": [
    {
     "name": "stdout",
     "output_type": "stream",
     "text": [
      "{1, 2, 3, 4}\n",
      "set()\n"
     ]
    },
    {
     "data": {
      "text/plain": [
       "set"
      ]
     },
     "execution_count": 154,
     "metadata": {},
     "output_type": "execute_result"
    }
   ],
   "source": [
    "# Empties the whole set\n",
    "# set.clear()\n",
    "set3 = {1, 2, 3, 4}\n",
    "print(set3)\n",
    "set3.clear()\n",
    "print(set3)\n",
    "type(set3)"
   ]
  },
  {
   "cell_type": "markdown",
   "metadata": {
    "id": "gAt8WAxy04Io"
   },
   "source": [
    "##### Frozenset <br>\n",
    "<p>Frozen sets are immutable objects that only support methods and operators that produce a result without affecting the frozen set or sets to which they are applied.</p><br><b>Unique & Immutable</b>"
   ]
  },
  {
   "cell_type": "code",
   "execution_count": 164,
   "metadata": {
    "id": "4iMNtoud04Io"
   },
   "outputs": [
    {
     "name": "stdout",
     "output_type": "stream",
     "text": [
      "frozenset({1, 2, 3, 4})\n",
      "{1, 2, 3, 4}\n",
      "{1, 2, 3, 4, 7}\n"
     ]
    }
   ],
   "source": [
    "# frozenset([])\n",
    "set6 = {1, 2, 3, 4}\n",
    "set7 = {3, 4, 5, 6}\n",
    "frozen_set1 = frozenset(set6)\n",
    "print(frozen_set1)\n",
    "# you can't add to it because its not frozen\n",
    "# you'll get an error frozen_set1.add(56)\n",
    "unfrozen_set= set(frozen_set1)\n",
    "print(unfrozen_set)\n",
    "unfrozen_set.add(7)\n",
    "print(unfrozen_set)"
   ]
  },
  {
   "cell_type": "markdown",
   "metadata": {
    "id": "HzqHJiCw04Ip"
   },
   "source": [
    "## Modules"
   ]
  },
  {
   "cell_type": "markdown",
   "metadata": {
    "id": "zqueNTwb04Iq"
   },
   "source": [
    "##### Importing Entire Modules"
   ]
  },
  {
   "cell_type": "code",
   "execution_count": null,
   "metadata": {
    "id": "Zc4bZ6VO04Iq"
   },
   "outputs": [],
   "source": [
    "# you can import any module from the Python Standard Library\n",
    "# without having to install a library first\n",
    "# import or from 'xxx' import *\n",
    "\n",
    "# below imports the entire math module from the PSL\n",
    "# import math\n",
    "\n",
    "# or like this \n",
    "# from math import *\n"
   ]
  },
  {
   "cell_type": "markdown",
   "metadata": {
    "id": "I2XRhrs004Iq"
   },
   "source": [
    "##### Importing Methods Only"
   ]
  },
  {
   "cell_type": "code",
   "execution_count": null,
   "metadata": {
    "id": "ZTzZrOAL04Ir"
   },
   "outputs": [],
   "source": [
    "# from 'xxx' import 'xxx'\n",
    "# from math import floor\n",
    "\n",
    "\n",
    "# if you want to import a specific method from the math.py module\n",
    "# from math import math.pi\n",
    "\n"
   ]
  },
  {
   "cell_type": "markdown",
   "metadata": {
    "id": "T5Ii5jCD04Ir"
   },
   "source": [
    "##### Using the 'as' Keyword"
   ]
  },
  {
   "cell_type": "code",
   "execution_count": null,
   "metadata": {
    "id": "gAAB5Vsk04Ir"
   },
   "outputs": [],
   "source": [
    "# from 'xxx' import 'xxx' as 'xxx' or import 'xxx' as 'xxx'\n",
    "# from math import floor as f\n",
    "# sets the alias name for floor to f"
   ]
  },
  {
   "cell_type": "markdown",
   "metadata": {
    "id": "QrVn54Vz04Ir"
   },
   "source": [
    "##### Creating a Module"
   ]
  },
  {
   "cell_type": "code",
   "execution_count": 168,
   "metadata": {
    "id": "Xh_GvQge04Ir"
   },
   "outputs": [
    {
     "name": "stdout",
     "output_type": "stream",
     "text": [
      "Hello Mr/Ms Jessica...we've been waiting for you!\n",
      "Hello Mr/Ms Roberto...we've been waiting for you!\n"
     ]
    }
   ],
   "source": [
    "# import the whole module and call the specific function\n",
    "import module\n",
    "module.printName(\"Jessica\")\n",
    "\n",
    "# or import specific function and give it the nickname pn\n",
    "from module import printName as pn\n",
    "pn(\"Roberto\")"
   ]
  },
  {
   "cell_type": "markdown",
   "metadata": {
    "id": "TMmLoPPF04Is"
   },
   "source": [
    "# Exercises"
   ]
  },
  {
   "cell_type": "markdown",
   "metadata": {
    "id": "UDvShtMq04Is"
   },
   "source": [
    "### 1) Build a Shopping Cart <br>\n",
    "<p><b>You can use either lists or dictionaries. The program should have the following capabilities:</b><br><br>\n",
    "1) Takes in input <br>\n",
    "2) Stores user input into a dictionary or list <br>\n",
    "3) The User can add or delete items <br>\n",
    "4) The User can see current shopping list <br>\n",
    "5) The program Loops until user 'quits' <br>\n",
    "6) Upon quiting the program, print out all items in the user's list <br>\n",
    "</p>"
   ]
  },
  {
   "cell_type": "code",
   "execution_count": 49,
   "metadata": {
    "id": "qlcSXJrf04It"
   },
   "outputs": [
    {
     "name": "stdout",
     "output_type": "stream",
     "text": [
      "1 apple has been deleted from your cart\n"
     ]
    },
    {
     "ename": "KeyboardInterrupt",
     "evalue": "Interrupted by user",
     "output_type": "error",
     "traceback": [
      "\u001b[1;31m---------------------------------------------------------------------------\u001b[0m",
      "\u001b[1;31mKeyboardInterrupt\u001b[0m                         Traceback (most recent call last)",
      "\u001b[1;32m<ipython-input-49-cef8aaa0ac56>\u001b[0m in \u001b[0;36m<module>\u001b[1;34m\u001b[0m\n\u001b[0;32m     62\u001b[0m             \u001b[1;31m#loop back up to start of while loop\u001b[0m\u001b[1;33m\u001b[0m\u001b[1;33m\u001b[0m\u001b[1;33m\u001b[0m\u001b[0m\n\u001b[0;32m     63\u001b[0m \u001b[1;33m\u001b[0m\u001b[0m\n\u001b[1;32m---> 64\u001b[1;33m \u001b[0mshopping_cart\u001b[0m\u001b[1;33m(\u001b[0m\u001b[1;33m)\u001b[0m\u001b[1;33m\u001b[0m\u001b[1;33m\u001b[0m\u001b[0m\n\u001b[0m\u001b[0;32m     65\u001b[0m \u001b[1;33m\u001b[0m\u001b[0m\n\u001b[0;32m     66\u001b[0m \u001b[1;33m\u001b[0m\u001b[0m\n",
      "\u001b[1;32m<ipython-input-49-cef8aaa0ac56>\u001b[0m in \u001b[0;36mshopping_cart\u001b[1;34m()\u001b[0m\n\u001b[0;32m     20\u001b[0m     \u001b[1;31m# while the user is entering inputs\u001b[0m\u001b[1;33m\u001b[0m\u001b[1;33m\u001b[0m\u001b[1;33m\u001b[0m\u001b[0m\n\u001b[0;32m     21\u001b[0m     \u001b[1;32mwhile\u001b[0m \u001b[1;32mTrue\u001b[0m\u001b[1;33m:\u001b[0m\u001b[1;33m\u001b[0m\u001b[1;33m\u001b[0m\u001b[0m\n\u001b[1;32m---> 22\u001b[1;33m         \u001b[0maction\u001b[0m \u001b[1;33m=\u001b[0m \u001b[0minput\u001b[0m\u001b[1;33m(\u001b[0m\u001b[1;34m\"Do you want to add, delete, show or quit?\"\u001b[0m\u001b[1;33m)\u001b[0m\u001b[1;33m\u001b[0m\u001b[1;33m\u001b[0m\u001b[0m\n\u001b[0m\u001b[0;32m     23\u001b[0m         \u001b[0mclear_output\u001b[0m\u001b[1;33m(\u001b[0m\u001b[1;33m)\u001b[0m\u001b[1;33m\u001b[0m\u001b[1;33m\u001b[0m\u001b[0m\n\u001b[0;32m     24\u001b[0m         \u001b[1;31m# if they enter \"show\"\u001b[0m\u001b[1;33m\u001b[0m\u001b[1;33m\u001b[0m\u001b[1;33m\u001b[0m\u001b[0m\n",
      "\u001b[1;32m~\\miniconda3\\lib\\site-packages\\ipykernel\\kernelbase.py\u001b[0m in \u001b[0;36mraw_input\u001b[1;34m(self, prompt)\u001b[0m\n\u001b[0;32m    858\u001b[0m                 \u001b[1;34m\"raw_input was called, but this frontend does not support input requests.\"\u001b[0m\u001b[1;33m\u001b[0m\u001b[1;33m\u001b[0m\u001b[0m\n\u001b[0;32m    859\u001b[0m             )\n\u001b[1;32m--> 860\u001b[1;33m         return self._input_request(str(prompt),\n\u001b[0m\u001b[0;32m    861\u001b[0m             \u001b[0mself\u001b[0m\u001b[1;33m.\u001b[0m\u001b[0m_parent_ident\u001b[0m\u001b[1;33m,\u001b[0m\u001b[1;33m\u001b[0m\u001b[1;33m\u001b[0m\u001b[0m\n\u001b[0;32m    862\u001b[0m             \u001b[0mself\u001b[0m\u001b[1;33m.\u001b[0m\u001b[0m_parent_header\u001b[0m\u001b[1;33m,\u001b[0m\u001b[1;33m\u001b[0m\u001b[1;33m\u001b[0m\u001b[0m\n",
      "\u001b[1;32m~\\miniconda3\\lib\\site-packages\\ipykernel\\kernelbase.py\u001b[0m in \u001b[0;36m_input_request\u001b[1;34m(self, prompt, ident, parent, password)\u001b[0m\n\u001b[0;32m    902\u001b[0m             \u001b[1;32mexcept\u001b[0m \u001b[0mKeyboardInterrupt\u001b[0m\u001b[1;33m:\u001b[0m\u001b[1;33m\u001b[0m\u001b[1;33m\u001b[0m\u001b[0m\n\u001b[0;32m    903\u001b[0m                 \u001b[1;31m# re-raise KeyboardInterrupt, to truncate traceback\u001b[0m\u001b[1;33m\u001b[0m\u001b[1;33m\u001b[0m\u001b[1;33m\u001b[0m\u001b[0m\n\u001b[1;32m--> 904\u001b[1;33m                 \u001b[1;32mraise\u001b[0m \u001b[0mKeyboardInterrupt\u001b[0m\u001b[1;33m(\u001b[0m\u001b[1;34m\"Interrupted by user\"\u001b[0m\u001b[1;33m)\u001b[0m \u001b[1;32mfrom\u001b[0m \u001b[1;32mNone\u001b[0m\u001b[1;33m\u001b[0m\u001b[1;33m\u001b[0m\u001b[0m\n\u001b[0m\u001b[0;32m    905\u001b[0m             \u001b[1;32mexcept\u001b[0m \u001b[0mException\u001b[0m \u001b[1;32mas\u001b[0m \u001b[0me\u001b[0m\u001b[1;33m:\u001b[0m\u001b[1;33m\u001b[0m\u001b[1;33m\u001b[0m\u001b[0m\n\u001b[0;32m    906\u001b[0m                 \u001b[0mself\u001b[0m\u001b[1;33m.\u001b[0m\u001b[0mlog\u001b[0m\u001b[1;33m.\u001b[0m\u001b[0mwarning\u001b[0m\u001b[1;33m(\u001b[0m\u001b[1;34m\"Invalid Message:\"\u001b[0m\u001b[1;33m,\u001b[0m \u001b[0mexc_info\u001b[0m\u001b[1;33m=\u001b[0m\u001b[1;32mTrue\u001b[0m\u001b[1;33m)\u001b[0m\u001b[1;33m\u001b[0m\u001b[1;33m\u001b[0m\u001b[0m\n",
      "\u001b[1;31mKeyboardInterrupt\u001b[0m: Interrupted by user"
     ]
    }
   ],
   "source": [
    "# list is easier but dictionariy gives more functionality\n",
    "\n",
    "from IPython.display import clear_output\n",
    "\n",
    "#loop\n",
    "# show add delete or quit\n",
    "# use if statemements to check on the inputs\n",
    "# if it says add , do this\n",
    "# if it says delete, do this\n",
    "# if it says quit, do this\n",
    "\n",
    "# Ask the user four bits of input: Do you want to : Show/Add/Delete or Quit?\n",
    "\n",
    "from IPython.display import clear_output\n",
    "\n",
    "# define program\n",
    "def shopping_cart():\n",
    "    # empty dictionary\n",
    "    cart = {}\n",
    "    # while the user is entering inputs\n",
    "    while True:\n",
    "        action = input(\"Do you want to add, delete, show or quit?\")\n",
    "        clear_output()\n",
    "        # if they enter \"show\"\n",
    "        if action.lower() == \"quit\":\n",
    "            print(\"you have quit shopping\")\n",
    "            break\n",
    "        elif action.lower() == \"show\":\n",
    "            # show what's in the cart\n",
    "            if cart == {}:\n",
    "                print(\"Your cart is empty\")\n",
    "            else:\n",
    "                for key, value in cart.items():\n",
    "                    print(f\"You have {value} {key} in your cart\")\n",
    "                #loop back up to start of while loop\n",
    "       \n",
    "        # if they enter add\n",
    "        elif action.lower() == \"add\":\n",
    "            # ask for item and quantity\n",
    "            item = input(\"What item would you like to order?\")\n",
    "            quantity = input(\"How many would you like to order?\")\n",
    "            clear_output()\n",
    "            # see if the item alreay exists\n",
    "            if item in cart:\n",
    "                already_count = cart[item]\n",
    "                cart[item] = int(quantity) + int(already_count)\n",
    "            else: \n",
    "                cart[item] = quantity\n",
    "            #loop back up to start of while loop\n",
    "    \n",
    "        # if they enter \"delete\"\n",
    "        elif action.lower() == \"delete\":\n",
    "            item = input(\"What item would you like to order?\")\n",
    "            quantity = input(\"How many would you like to order?\")\n",
    "            clear_output()\n",
    "            if item in cart:\n",
    "                already_count = cart[item]\n",
    "                cart[item] = int(already_count) - int(quantity)\n",
    "                print(str(quantity)+\" \"+ item + \" has been deleted from your cart\")\n",
    "            else: \n",
    "                print(item +\" is not in your cart\")\n",
    "            #loop back up to start of while loop\n",
    "        \n",
    "shopping_cart()\n",
    "\n",
    "\n",
    "\n",
    "\n"
   ]
  },
  {
   "cell_type": "markdown",
   "metadata": {
    "id": "x8Hi29qu04It"
   },
   "source": [
    "### 2) Create a Module in VS Code and Import It into jupyter notebook <br>\n",
    "<p><b>Module should have the following capabilities:</b><br><br>\n",
    "1) Has a function to calculate the square footage of a house <br>\n",
    "    <b>Reminder of Formula: Length X Width == Area<br>\n",
    "        <hr>\n",
    "2) Has a function to calculate the circumference of a circle <br><br>\n",
    "<b>Program in Jupyter Notebook should take in user input and use imported functions to calculate a circle's circumference or a houses square footage</b>\n",
    "</p>\n",
    "    \n",
    "# open VS Code in your folder\n",
    "    #new .py file\n",
    "    #define a function\n",
    "    # import into jupyter notebook"
   ]
  },
  {
   "cell_type": "code",
   "execution_count": 66,
   "metadata": {
    "id": "u6nzGXoA04It",
    "scrolled": true
   },
   "outputs": [
    {
     "name": "stdout",
     "output_type": "stream",
     "text": [
      "Do you want to calculate sqft or circumference?circumference\n",
      "what is the radius?5\n",
      "circumference = 31.400000000000002\n",
      "None\n"
     ]
    }
   ],
   "source": [
    "from JRmodule import sqft\n",
    "from JRmodule import circle\n",
    "\n",
    "def calculate():\n",
    "    house_or_circle = input(\"Do you want to calculate sqft or circumference?\")\n",
    "    if house_or_circle == \"sqft\":\n",
    "        length = int(input(\"what is the length?\"))\n",
    "        width = int(input(\"what is the width?\"))\n",
    "        sqft(length, width)\n",
    "    elif house_or_circle == \"circumference\":\n",
    "        radius = int(input(\"what is the radius?\"))\n",
    "        circle(radius)\n",
    "\n",
    "\n",
    "        \n",
    "calculate()"
   ]
  },
  {
   "cell_type": "code",
   "execution_count": null,
   "metadata": {},
   "outputs": [],
   "source": []
  },
  {
   "cell_type": "code",
   "execution_count": null,
   "metadata": {},
   "outputs": [],
   "source": []
  }
 ],
 "metadata": {
  "colab": {
   "name": "Wednesday_Lesson_Inclass_Lecture.ipynb",
   "provenance": []
  },
  "kernelspec": {
   "display_name": "Python 3",
   "language": "python",
   "name": "python3"
  },
  "language_info": {
   "codemirror_mode": {
    "name": "ipython",
    "version": 3
   },
   "file_extension": ".py",
   "mimetype": "text/x-python",
   "name": "python",
   "nbconvert_exporter": "python",
   "pygments_lexer": "ipython3",
   "version": "3.8.3"
  }
 },
 "nbformat": 4,
 "nbformat_minor": 1
}
