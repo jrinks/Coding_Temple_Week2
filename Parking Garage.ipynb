{
 "cells": [
  {
   "cell_type": "code",
   "execution_count": null,
   "id": "entertaining-buffer",
   "metadata": {},
   "outputs": [
    {
     "name": "stdout",
     "output_type": "stream",
     "text": [
      "Do you want to take a ticket or pay? Ticket/Paypay\n",
      "Which number ticket do you want to pay?2\n",
      "how much do you want to pay?5\n",
      "Thank you, have a nice day!\n"
     ]
    }
   ],
   "source": [
    "from IPython.display import clear_output\n",
    "\n",
    "\n",
    "class Garage():\n",
    "    def __init__(self):\n",
    "        # tickets available\n",
    "        self.tickets = [1, 2, 3]\n",
    "        # sapces available\n",
    "        self.spaces = [1, 2, 3]\n",
    "        # tickets taken empty dict\n",
    "        self.current_ticket = {\"ticket\":[], \"payment\":[]}\n",
    "        \n",
    "    def take_ticket(self):\n",
    "        # 1. ask which space they want (input())\n",
    "        # 1.1 print available spots\n",
    "        print(\"Available spots: \" + str(self.tickets))\n",
    "        which_space = int(input(\"which space would you like?\"))\n",
    "        # 2. give them ticket (remove ticket(x) from self.items list)\n",
    "        # 2.1 remove their ticket and space from tickets and spaces\n",
    "        #print(which_space)\n",
    "        #print(type(which_space))\n",
    "        self.tickets.remove(which_space)\n",
    "        self.spaces.remove(which_space)\n",
    "        #2.2 Add ticket to current_ticket\n",
    "        self.current_ticket = {which_space : 0}\n",
    "        clear_output()\n",
    "        \n",
    "    \n",
    "    def pay_ticket(self):\n",
    "        # 4. ask which ticket they had, options of ticket1 ticket2 ticket3\n",
    "        had = int(input(\"Which number ticket do you want to pay?\"))\n",
    "        # 4.5 determine if they have already paid\n",
    "        if self.current_ticket[had] == 0:\n",
    "            # they have not paid\n",
    "            # ask how much they want to pay\n",
    "            how_much = input(\"how much do you want to pay?\")\n",
    "            self.current_ticket[had] = int(how_much)\n",
    "            # 5. take back ticket (add ticket(x) to self.items list)\n",
    "            del self.current_ticket[had] \n",
    "            self.spaces.append(had)\n",
    "            self.tickets.append(had)\n",
    "            # 6. display message \"Thank you, have a nice day!\"#DriverFunction\n",
    "            print(\"Thank you, have a nice day!\")\n",
    "        else:\n",
    "            self.current_ticket.remove[had]\n",
    "            self.spaces.append(had)\n",
    "            self.tickets.append(had)\n",
    "            # 6. display message \"Thank you, have a nice day!\"#DriverFunction\n",
    "            print(\"Thank you, have a nice day!\")\n",
    "\n",
    "            \n",
    "            \n",
    "# driver function        \n",
    "def main():\n",
    "    garage = Garage()\n",
    "    # 0. ask if ticket or pay\n",
    "    while (response:=input(\"Do you want to take a ticket or pay? Ticket/Pay\")):\n",
    "        if response.lower()==\"ticket\":\n",
    "            garage.take_ticket()\n",
    "        if response.lower()==\"pay\":\n",
    "            garage.pay_ticket()\n",
    "            main()\n",
    "\n",
    "\n",
    "main()          \n"
   ]
  },
  {
   "cell_type": "code",
   "execution_count": null,
   "id": "honey-patrick",
   "metadata": {},
   "outputs": [],
   "source": []
  }
 ],
 "metadata": {
  "kernelspec": {
   "display_name": "Python 3",
   "language": "python",
   "name": "python3"
  },
  "language_info": {
   "codemirror_mode": {
    "name": "ipython",
    "version": 3
   },
   "file_extension": ".py",
   "mimetype": "text/x-python",
   "name": "python",
   "nbconvert_exporter": "python",
   "pygments_lexer": "ipython3",
   "version": "3.8.3"
  }
 },
 "nbformat": 4,
 "nbformat_minor": 5
}
