{
 "cells": [
  {
   "cell_type": "markdown",
   "metadata": {
    "id": "EmL5nEgV0UxV"
   },
   "source": [
    "# Week 2 - Monday Lesson (variable assignment, loops, lists)"
   ]
  },
  {
   "cell_type": "markdown",
   "metadata": {
    "id": "IJwYUWmi0Uxf"
   },
   "source": [
    "## Tasks Today:\n",
    "\n",
    "1) Int & Float assignments <br>\n",
    " &nbsp;&nbsp;&nbsp;&nbsp; a) Assigning int <br>\n",
    " &nbsp;&nbsp;&nbsp;&nbsp; b) Assigning float <br>\n",
    " &nbsp;&nbsp;&nbsp;&nbsp; c) Performing Calculations on ints and floats <br>\n",
    " &nbsp;&nbsp;&nbsp;&nbsp;&nbsp;&nbsp;&nbsp;&nbsp; - Addition <br>\n",
    " &nbsp;&nbsp;&nbsp;&nbsp;&nbsp;&nbsp;&nbsp;&nbsp; - Subtraction <br>\n",
    " &nbsp;&nbsp;&nbsp;&nbsp;&nbsp;&nbsp;&nbsp;&nbsp; - Multiplication <br>\n",
    " &nbsp;&nbsp;&nbsp;&nbsp;&nbsp;&nbsp;&nbsp;&nbsp; - Division <br>\n",
    " &nbsp;&nbsp;&nbsp;&nbsp;&nbsp;&nbsp;&nbsp;&nbsp; - Floor Division <br>\n",
    " &nbsp;&nbsp;&nbsp;&nbsp;&nbsp;&nbsp;&nbsp;&nbsp; - Modulo <br>\n",
    " &nbsp;&nbsp;&nbsp;&nbsp;&nbsp;&nbsp;&nbsp;&nbsp; - Exponential <br>\n",
    "2) String Input-Output <br>\n",
    " &nbsp;&nbsp;&nbsp;&nbsp; a) String Assignment <br>\n",
    " &nbsp;&nbsp;&nbsp;&nbsp; b) print() <br>\n",
    " &nbsp;&nbsp;&nbsp;&nbsp; c) String Concatenation <br>\n",
    " &nbsp;&nbsp;&nbsp;&nbsp; d) Type Conversion <br>\n",
    " &nbsp;&nbsp;&nbsp;&nbsp; e) input() <br>\n",
    " &nbsp;&nbsp;&nbsp;&nbsp; f) format() <br>\n",
    " &nbsp;&nbsp;&nbsp;&nbsp; g) Old Way (python 2) <br>\n",
    "3) <b>In-Class Exercise #1</b> <br>\n",
    "4) If Statements <br>\n",
    " &nbsp;&nbsp;&nbsp;&nbsp; a) 'is' keyword <br>\n",
    " &nbsp;&nbsp;&nbsp;&nbsp; b) 'in' keyword <br>\n",
    " &nbsp;&nbsp;&nbsp;&nbsp; c) 'not in' keyword <br>\n",
    "5) <b>In-Class Exercise #2</b> <br>\n",
    "6) Elif Statements <br>\n",
    "7) Else Statements <br>\n",
    "8) <b>In-Class Exercise #3</b> <br>\n",
    "9) For Loops <br>\n",
    " &nbsp;&nbsp;&nbsp;&nbsp; a) Using 'in' keyword <br>\n",
    " &nbsp;&nbsp;&nbsp;&nbsp; b) Continue Statement <br>\n",
    " &nbsp;&nbsp;&nbsp;&nbsp; c) Break Statement <br>\n",
    " &nbsp;&nbsp;&nbsp;&nbsp; d) Pass Statement <br>\n",
    " &nbsp;&nbsp;&nbsp;&nbsp; e) Double For Loops <br>\n",
    "10) While Loops <br>\n",
    " &nbsp;&nbsp;&nbsp;&nbsp; a) Looping 'While True' <br>\n",
    " &nbsp;&nbsp;&nbsp;&nbsp; b) While and For Loops Used Together <br>\n",
    "11) Built-In Functions <br>\n",
    " &nbsp;&nbsp;&nbsp;&nbsp; a) range() <br>\n",
    " &nbsp;&nbsp;&nbsp;&nbsp; b) len() <br>\n",
    " &nbsp;&nbsp;&nbsp;&nbsp; c) help() <br>\n",
    " &nbsp;&nbsp;&nbsp;&nbsp; d) isinstance() <br>\n",
    " &nbsp;&nbsp;&nbsp;&nbsp; e) abs() <br>\n",
    "12) Try and Except <br>\n",
    "13) Lists <br>\n",
    " &nbsp;&nbsp;&nbsp;&nbsp; a) Declaring Lists <br>\n",
    " &nbsp;&nbsp;&nbsp;&nbsp; b) Indexing a List <br>\n",
    " &nbsp;&nbsp;&nbsp;&nbsp; c) .append() <br>\n",
    " &nbsp;&nbsp;&nbsp;&nbsp; d) .insert() <br>\n",
    " &nbsp;&nbsp;&nbsp;&nbsp; e) .pop() <br>\n",
    " &nbsp;&nbsp;&nbsp;&nbsp; f) .remove() <br>\n",
    " &nbsp;&nbsp;&nbsp;&nbsp; g) del() <br>\n",
    " &nbsp;&nbsp;&nbsp;&nbsp; h) Concatenating Two Lists <br>\n",
    " &nbsp;&nbsp;&nbsp;&nbsp; i) Lists Within Lists <br>\n",
    " &nbsp;&nbsp;&nbsp;&nbsp; j) Looping Through Lists <br>"
   ]
  },
  {
   "cell_type": "markdown",
   "metadata": {
    "id": "62dncCBi0Uxh"
   },
   "source": [
    "### Int & Float Assignments"
   ]
  },
  {
   "cell_type": "markdown",
   "metadata": {
    "id": "QvhQqFVk0Uxi"
   },
   "source": [
    "##### Assigning int"
   ]
  },
  {
   "cell_type": "code",
   "execution_count": 3,
   "metadata": {
    "id": "FbyR1Bwd0Uxj"
   },
   "outputs": [
    {
     "name": "stdout",
     "output_type": "stream",
     "text": [
      "6\n",
      "<class 'int'>\n"
     ]
    }
   ],
   "source": [
    "number = 6\n",
    "print(number)\n",
    "print(type(number))\n",
    "# interter is a class \n",
    "# python automatically sets a whole number to class interger"
   ]
  },
  {
   "cell_type": "markdown",
   "metadata": {
    "id": "ELliuDNe0Uxl"
   },
   "source": [
    "##### Assinging float"
   ]
  },
  {
   "cell_type": "code",
   "execution_count": 7,
   "metadata": {
    "id": "HDmggEZp0Uxm"
   },
   "outputs": [
    {
     "name": "stdout",
     "output_type": "stream",
     "text": [
      "3.0\n",
      "<class 'float'>\n"
     ]
    }
   ],
   "source": [
    "number = 3.0\n",
    "print(number)\n",
    "print(type(number))\n",
    "# because we put a decimal point, Python automatically makes it a float class."
   ]
  },
  {
   "cell_type": "markdown",
   "metadata": {
    "id": "RUvONMCR0Uxm"
   },
   "source": [
    "#### Performing Calculations on ints and floats"
   ]
  },
  {
   "cell_type": "markdown",
   "metadata": {
    "id": "byv0z7jl0Uxn"
   },
   "source": [
    "##### Addition"
   ]
  },
  {
   "cell_type": "code",
   "execution_count": 8,
   "metadata": {
    "id": "hAbjPKCK0Uxn"
   },
   "outputs": [
    {
     "name": "stdout",
     "output_type": "stream",
     "text": [
      "7.4\n",
      "9.4\n"
     ]
    }
   ],
   "source": [
    "#PEMDAS  order of operations\n",
    "num1 = 2\n",
    "num2 = 5.4\n",
    "result =  num1 + num2\n",
    "print(result)\n",
    "# an int plus a float makes it into a float\n",
    "result+=2\n",
    "print(result)\n",
    "# result += 2 is the same as result+2"
   ]
  },
  {
   "cell_type": "markdown",
   "metadata": {
    "id": "ho4SMM0a0Uxo"
   },
   "source": [
    "##### Subtraction"
   ]
  },
  {
   "cell_type": "code",
   "execution_count": 10,
   "metadata": {
    "id": "HfAZoI6J0Uxq"
   },
   "outputs": [
    {
     "name": "stdout",
     "output_type": "stream",
     "text": [
      "3.4000000000000004\n"
     ]
    }
   ],
   "source": [
    "result_diff = num2 - num1\n",
    "print(result_diff)\n",
    "# why all those zero's? Computer math, based on bits.\n",
    "# think of it as a rounding error\n",
    "# read bottom of this page for more explaination https://jakevdp.github.io/PythonDataScienceHandbook/02.01-understanding-data-types.html\n",
    "\n",
    "#shorthand\n",
    "result_diff -= 1\n",
    "# is the same as result_diff = result_diff -1"
   ]
  },
  {
   "cell_type": "markdown",
   "metadata": {
    "id": "JeDGG9QJ0Uxq"
   },
   "source": [
    "##### Multiplication"
   ]
  },
  {
   "cell_type": "code",
   "execution_count": 11,
   "metadata": {
    "id": "MD-xHbmX0Uxs"
   },
   "outputs": [
    {
     "name": "stdout",
     "output_type": "stream",
     "text": [
      "10.8\n",
      "21.6\n"
     ]
    }
   ],
   "source": [
    "product = num1 * num2\n",
    "print(product)\n",
    "# shorthand\n",
    "product *= 2\n",
    "print(product)\n",
    "# above is same as product = procut * 2\n"
   ]
  },
  {
   "cell_type": "markdown",
   "metadata": {
    "id": "6kxQE9gR0Uxs"
   },
   "source": [
    "##### Division"
   ]
  },
  {
   "cell_type": "code",
   "execution_count": 12,
   "metadata": {
    "id": "aHT7Z7Bb0Uxs"
   },
   "outputs": [
    {
     "name": "stdout",
     "output_type": "stream",
     "text": [
      "2.7\n",
      "1.35\n"
     ]
    }
   ],
   "source": [
    "quo = num2 / num1\n",
    "print(quo)\n",
    "#shorthand\n",
    "quo /= 2\n",
    "print(quo)\n",
    "#same as quo = quo /2\n"
   ]
  },
  {
   "cell_type": "markdown",
   "metadata": {
    "id": "2sCnv99u0Uxt"
   },
   "source": [
    "##### Floor Division"
   ]
  },
  {
   "cell_type": "code",
   "execution_count": 13,
   "metadata": {
    "id": "712itZ9P0Uxt"
   },
   "outputs": [
    {
     "name": "stdout",
     "output_type": "stream",
     "text": [
      "2.0\n",
      "1.0\n"
     ]
    }
   ],
   "source": [
    "# brings the result down to the closest whole number\n",
    "result_floor = num2 // num1\n",
    "print(result_floor)\n",
    "# num2 / num 1 is 2.7, so floor moves it to 2.0\n",
    "# ceiling requires inport of a math module\n",
    "# shorthand\n",
    "result_floor //= 1.234\n",
    "print(result_floor)"
   ]
  },
  {
   "cell_type": "markdown",
   "metadata": {
    "id": "AfhWTZt50Uxt"
   },
   "source": [
    "##### Modulo"
   ]
  },
  {
   "cell_type": "code",
   "execution_count": 14,
   "metadata": {
    "id": "FNI-PiUy0Uxu"
   },
   "outputs": [
    {
     "name": "stdout",
     "output_type": "stream",
     "text": [
      "3\n"
     ]
    }
   ],
   "source": [
    "# returns the remainder of a division\n",
    "num3 = 18\n",
    "num4 = 5\n",
    "result_mod = num3 % num4\n",
    "print(result_mod)\n",
    "# 18 / 5 = 3 with a remainder of 3\n",
    "# when building a website and you want three items in each row, you canuse \n",
    "# modulo to figure out when to go to the next row.\n",
    "# same %= shorthand applies to mod"
   ]
  },
  {
   "cell_type": "markdown",
   "metadata": {
    "id": "svQjvADD0Uxu"
   },
   "source": [
    "##### Exponential"
   ]
  },
  {
   "cell_type": "code",
   "execution_count": 15,
   "metadata": {
    "id": "_xGKW59L0Uxu"
   },
   "outputs": [
    {
     "name": "stdout",
     "output_type": "stream",
     "text": [
      "25\n",
      "625\n",
      "1.4142135623730951\n"
     ]
    }
   ],
   "source": [
    "square = 5 **2\n",
    "print(square)\n",
    "#shorthand also applies\n",
    "square **=2\n",
    "print(square)\n",
    "#to do square root , import a module or cheat like this:\n",
    "# square root of 2:\n",
    "square_root = 2 ** (1/2)\n",
    "print(square_root)\n",
    "# fractions are also floats"
   ]
  },
  {
   "cell_type": "markdown",
   "metadata": {
    "id": "8_iYcT530Uxv"
   },
   "source": [
    "### String Input-Output"
   ]
  },
  {
   "cell_type": "markdown",
   "metadata": {
    "id": "P9i8jSf50Uxv"
   },
   "source": [
    "##### String Assignment"
   ]
  },
  {
   "cell_type": "code",
   "execution_count": 16,
   "metadata": {
    "id": "fZHNoz230Uxv"
   },
   "outputs": [
    {
     "name": "stdout",
     "output_type": "stream",
     "text": [
      "<class 'str'>\n"
     ]
    }
   ],
   "source": [
    "# text, put them inside quotation marks\n",
    "name = \"Jessica\"\n",
    "print(type(name))\n"
   ]
  },
  {
   "cell_type": "markdown",
   "metadata": {
    "id": "SgG0dT4j0Uxw"
   },
   "source": [
    "##### print() <br>\n",
    "<p>Don't forget about end=' '</p>"
   ]
  },
  {
   "cell_type": "code",
   "execution_count": 17,
   "metadata": {
    "id": "BWDGlowm0Uxw"
   },
   "outputs": [
    {
     "name": "stdout",
     "output_type": "stream",
     "text": [
      "This is my first name Jessica\n",
      "Full Name Jessica Rinks"
     ]
    }
   ],
   "source": [
    "print(\"This is my first name\", name)\n",
    "# comma adds a space\n",
    "print(\"Full Name\", name, end=\" Rinks\")\n",
    "# end=\"\" also overrides the new line so if you run a second\n",
    "# print statement after the one with the end, it would not be on a new line."
   ]
  },
  {
   "cell_type": "markdown",
   "metadata": {
    "id": "QQPmAyE40Uxw"
   },
   "source": [
    "##### String Concatenation"
   ]
  },
  {
   "cell_type": "code",
   "execution_count": 18,
   "metadata": {
    "id": "LctegLqT0Uxx"
   },
   "outputs": [
    {
     "name": "stdout",
     "output_type": "stream",
     "text": [
      "JessicaRinks\n",
      "J\n",
      "Jessica RinksJr.\n"
     ]
    }
   ],
   "source": [
    "first = \"Jessica\"\n",
    "last = \"Rinks\"\n",
    "full_name = first + last\n",
    "print(full_name)\n",
    "# note theres no space in between\n",
    "print(full_name[0])\n",
    "full_name = first + \" \" + last\n",
    "#shorthand\n",
    "full_name += \"Jr.\"\n",
    "print(full_name)\n",
    "# the comma thing is only for print statements"
   ]
  },
  {
   "cell_type": "markdown",
   "metadata": {
    "id": "DXXrJTx30Uxx"
   },
   "source": [
    "##### Type Conversion"
   ]
  },
  {
   "cell_type": "code",
   "execution_count": 19,
   "metadata": {
    "id": "KhYR7rvv0Uxx"
   },
   "outputs": [
    {
     "name": "stdout",
     "output_type": "stream",
     "text": [
      "32\n",
      "<class 'str'>\n",
      "<class 'int'>\n",
      "32.0\n",
      "<class 'str'>\n",
      "3.2\n"
     ]
    }
   ],
   "source": [
    "number = \"32\"\n",
    "print(number)\n",
    "print(type(number))\n",
    "number = int(number)\n",
    "print(type(number))\n",
    "# changing the class is called \"type casting\"\n",
    "number = float(number)\n",
    "print(number)\n",
    "number = str(number)\n",
    "print(type(number))\n",
    "# int is looking for a base 10 number\n",
    "# so something like 32.f woulld not work\n",
    "# if you change string \"3.2\" to int, it will throw an error\n",
    "number = \"3.2\"\n",
    "#number = int(number)\n",
    "print(number)"
   ]
  },
  {
   "cell_type": "markdown",
   "metadata": {
    "id": "P9tECM7e0Uxy"
   },
   "source": [
    "##### input()"
   ]
  },
  {
   "cell_type": "code",
   "execution_count": null,
   "metadata": {
    "id": "mSwG1iRU0Uxy"
   },
   "outputs": [],
   "source": [
    "# user input\n",
    "# input() is a bult in function\n",
    "# IT WILL ALWAYS RETURN A STRING!!!!!\n",
    "# age = input(\"What is your age\")\n",
    "# print(age)\n",
    "#print(age) + 5)\n",
    "# if you want to do math, change input to an int or float\n",
    "# but if we add an int() around the input() math will work\n",
    "# age = int(input(\"What is your age\"))\n",
    "# print(age + 6)"
   ]
  },
  {
   "cell_type": "markdown",
   "metadata": {
    "id": "hyq-iYvb0Uxy"
   },
   "source": [
    "#### str.format"
   ]
  },
  {
   "cell_type": "code",
   "execution_count": 21,
   "metadata": {
    "id": "Mye6LZiA0Uxz"
   },
   "outputs": [],
   "source": [
    "# .format  a method we can use on a string\n",
    "# format() is a function\n",
    "# method is a function that lives on a specific class\n",
    "# name = input(\"What is your name?\")\n",
    "# age = input(\"What is your age\")\n",
    "# result_string = \"You are AGE, NAME and you are getting wiser!\"\n",
    "# result_string = \"You are \"+age+\" \"+NAME+\" \"+ and you are getting wiser!\"\n",
    "#using .format\n",
    "# result_string = \"You are {}, {} and you are getting wiser!\".format(age,name)\n",
    "# print(result_string)\n",
    "# using F string\n",
    "# result_string = f\"{age} is a great time of life, {name}\"\n",
    "# print(result_string)"
   ]
  },
  {
   "cell_type": "markdown",
   "metadata": {
    "id": "_xhlRZrD0Ux0"
   },
   "source": [
    "##### Old Way (python 2)resu"
   ]
  },
  {
   "cell_type": "code",
   "execution_count": 22,
   "metadata": {
    "id": "oXJsrzL20Ux0"
   },
   "outputs": [],
   "source": [
    "# this is the old way of doing it\n",
    "# result_string2 = \"you are %s and you look great for your age!\" %age\n"
   ]
  },
  {
   "cell_type": "markdown",
   "metadata": {
    "id": "dWA23s_o0Ux0"
   },
   "source": [
    "# In-Class Exercise 1 <br>\n",
    "<p>Create a format statement that asks for color, year, make, model and prints out the results</p>"
   ]
  },
  {
   "cell_type": "code",
   "execution_count": 23,
   "metadata": {
    "id": "O1sSFv2X0Ux1"
   },
   "outputs": [],
   "source": [
    "# color = input(\"What is the color?\")\n",
    "# year = int(input(\"What is the year?\"))\n",
    "# make = input(\"What is the make?\")\n",
    "# model = input(\"What is the model\")\n",
    "# your_car = f\"Your car is a {year} {color} {make} {model}\"\n",
    "# print(your_car)"
   ]
  },
  {
   "cell_type": "markdown",
   "metadata": {
    "id": "B3JlPEIy0Ux1"
   },
   "source": [
    "### If Statements"
   ]
  },
  {
   "cell_type": "code",
   "execution_count": 202,
   "metadata": {
    "id": "J3Nckh0L0Ux1"
   },
   "outputs": [
    {
     "name": "stdout",
     "output_type": "stream",
     "text": [
      "num1<num2= is true\n"
     ]
    }
   ],
   "source": [
    "# Available operators: Greater(>), Less(<),Equal(==)\n",
    "# Greater or Equal(>=), Less or Equal (<=)\n",
    "\n",
    "# Truth Tree:\n",
    "# T && F = F\n",
    "# T && T = T\n",
    "# T || F = T\n",
    "# F || T = T\n",
    "# F || F = F\n",
    "\n",
    "num1 = 5\n",
    "num2 = 10\n",
    "if num1 < num2: \n",
    "    print(\"num1<num2= is true\")\n",
    "if num1 == num2: \n",
    "    print(\"num1==num2= is true\")\n",
    "if num1 > num2:\n",
    "    print(\"num1>num2= is true\")"
   ]
  },
  {
   "cell_type": "markdown",
   "metadata": {
    "id": "LFpVj1B50Ux2"
   },
   "source": [
    "##### 'is' keyword"
   ]
  },
  {
   "cell_type": "code",
   "execution_count": 203,
   "metadata": {
    "id": "EJqipTml0Ux2",
    "scrolled": true
   },
   "outputs": [
    {
     "name": "stdout",
     "output_type": "stream",
     "text": [
      "this is the same number/object\n"
     ]
    }
   ],
   "source": [
    "# is keyword checks for same/similar object, NOT same value\n",
    "num3 = 77\n",
    "num4 = num3\n",
    "num5 = int(\"77\")\n",
    "if num3 is num5:\n",
    "    print(\"this is the same number/object\")\n",
    "    "
   ]
  },
  {
   "cell_type": "markdown",
   "metadata": {
    "id": "E6sJ06WK0Ux2"
   },
   "source": [
    "##### 'in' keyword"
   ]
  },
  {
   "cell_type": "code",
   "execution_count": 204,
   "metadata": {
    "id": "o37J9kK50Ux2"
   },
   "outputs": [],
   "source": [
    "# in can be used in strings, lists and dicts"
   ]
  },
  {
   "cell_type": "markdown",
   "metadata": {
    "id": "NockUhsU0Ux2"
   },
   "source": [
    "##### 'not in' keyword'"
   ]
  },
  {
   "cell_type": "code",
   "execution_count": null,
   "metadata": {
    "id": "HdPGWW2V0Ux3"
   },
   "outputs": [],
   "source": []
  },
  {
   "cell_type": "markdown",
   "metadata": {
    "id": "htQ3a_kQ0Ux3"
   },
   "source": [
    "# In-Class Exercise 2 <br>\n",
    "<p>Ask user for input, check to see if the letter 'p' is in the input</p>"
   ]
  },
  {
   "cell_type": "code",
   "execution_count": 205,
   "metadata": {
    "id": "xDGc2w8S0Ux3"
   },
   "outputs": [
    {
     "name": "stdout",
     "output_type": "stream",
     "text": [
      "What is your favorite quote?carpe diem\n",
      "there is a p\n"
     ]
    }
   ],
   "source": [
    "# question = input(\"What is your favorite quote?\")\n",
    "# if \"p\" in question.lower():\n",
    "#     print(\"there is a p\")\n",
    "# else:\n",
    "#     print(\"there is no p\")"
   ]
  },
  {
   "cell_type": "markdown",
   "metadata": {
    "id": "WQPpG5Du0Ux4"
   },
   "source": [
    "## Using 'and'/'or' with If Statements"
   ]
  },
  {
   "cell_type": "code",
   "execution_count": 206,
   "metadata": {
    "id": "CxhBxmJI0Ux4"
   },
   "outputs": [
    {
     "name": "stdout",
     "output_type": "stream",
     "text": [
      "true and true\n",
      "true or true\n"
     ]
    }
   ],
   "source": [
    "num_1 = 15\n",
    "num_2 = 3\n",
    "num_3 = 10\n",
    "num_4 = 3\n",
    "# if with and\n",
    "if num_1 / 5 == num_2 and num_3 - 7 == num_4:\n",
    "    print(\"true and true\")\n",
    "\n",
    "# and &\n",
    "# or |\n",
    "if num_1 / 5 == num_2 | num_3 - 8 == num_4:\n",
    "    print(\"true or true\")"
   ]
  },
  {
   "cell_type": "markdown",
   "metadata": {
    "id": "hFE7hA_b0Ux4"
   },
   "source": [
    "### Elif Statements"
   ]
  },
  {
   "cell_type": "code",
   "execution_count": 24,
   "metadata": {
    "id": "KFlRixPH0Ux5"
   },
   "outputs": [
    {
     "name": "stdout",
     "output_type": "stream",
     "text": [
      "Divisible by five\n"
     ]
    }
   ],
   "source": [
    "# else if, will only run if the If before it did not\n",
    "# whereas an If statment will run even if the If above it was also true\n",
    "num_6 = 25\n",
    "if num_6 % 5 ==0:\n",
    "    print(\"Divisible by five\")\n",
    "# even tho this elif is true, it wont run because the IF above it was true\n",
    "# which means the elif and else will be skipped\n",
    "elif num_6 > 20:\n",
    "    print(\"is greater than 20\")\n",
    "else:\n",
    "    print(\"is not greater than 20 and is not divisible by 5\")"
   ]
  },
  {
   "cell_type": "markdown",
   "metadata": {
    "id": "L9o7cyOV0Ux5"
   },
   "source": [
    "### Else Statements"
   ]
  },
  {
   "cell_type": "code",
   "execution_count": 25,
   "metadata": {
    "id": "AOd1qpyv0Ux5"
   },
   "outputs": [],
   "source": [
    "# see above"
   ]
  },
  {
   "cell_type": "markdown",
   "metadata": {
    "id": "A3fOs-3d0Ux6"
   },
   "source": [
    "### For Loops"
   ]
  },
  {
   "cell_type": "code",
   "execution_count": 26,
   "metadata": {
    "id": "CBWSj7Ga0Ux6"
   },
   "outputs": [
    {
     "name": "stdout",
     "output_type": "stream",
     "text": [
      "0\n",
      "1\n",
      "2\n",
      "3\n",
      "4\n",
      "5\n",
      "6\n",
      "7\n",
      "8\n",
      "9\n",
      "J\n",
      "e\n",
      "s\n",
      "s\n",
      "i\n",
      "c\n",
      "a\n"
     ]
    }
   ],
   "source": [
    "# two types of loops: For and While\n",
    "# syntax:    for (iterator keyword) (loop keyword) (iterable)\n",
    "# you can name the iterator anything you want\n",
    "# iterable is the thing you are iterating thru\n",
    "\n",
    "for i in range(10):\n",
    "    print(i)\n",
    "\n",
    "name = \"Jessica\"\n",
    "for letter in name:\n",
    "    print(letter)\n"
   ]
  },
  {
   "cell_type": "markdown",
   "metadata": {
    "id": "6Q8kVRDm0Ux6"
   },
   "source": [
    "##### Using 'in' keyword"
   ]
  },
  {
   "cell_type": "code",
   "execution_count": 27,
   "metadata": {
    "id": "lsiN4P4h0Ux6"
   },
   "outputs": [],
   "source": [
    "# see above"
   ]
  },
  {
   "cell_type": "markdown",
   "metadata": {
    "id": "D6b-5y8k0Ux7"
   },
   "source": [
    "##### Continue Statement"
   ]
  },
  {
   "cell_type": "code",
   "execution_count": 28,
   "metadata": {
    "id": "XeGLCe7-0Ux7"
   },
   "outputs": [],
   "source": [
    "# will continue to next iteration\n",
    "# continue skips any code thats below it, goes to the next\n",
    "# iteration and starts at the top of the loop again"
   ]
  },
  {
   "cell_type": "code",
   "execution_count": null,
   "metadata": {
    "id": "0RQETop50Ux7"
   },
   "outputs": [],
   "source": []
  },
  {
   "cell_type": "markdown",
   "metadata": {
    "id": "uxK98VKU0Ux8"
   },
   "source": [
    "##### Break Statement"
   ]
  },
  {
   "cell_type": "code",
   "execution_count": 29,
   "metadata": {
    "id": "SX5_-Jt20Ux8"
   },
   "outputs": [],
   "source": [
    "# will break out of current loop"
   ]
  },
  {
   "cell_type": "code",
   "execution_count": null,
   "metadata": {
    "id": "Af9uwILG0Ux8"
   },
   "outputs": [],
   "source": []
  },
  {
   "cell_type": "markdown",
   "metadata": {
    "id": "bW37zb5R0Ux9"
   },
   "source": [
    "##### Pass Statement"
   ]
  },
  {
   "cell_type": "code",
   "execution_count": 30,
   "metadata": {
    "id": "Fi3Wng4W0Ux9"
   },
   "outputs": [],
   "source": [
    "# mostly used as a placeholder, and will continue on same iteration\n",
    "# if you don't know what your indented block of code will be\n",
    "# you can put \"pass\" in there so you don't get an error\n",
    "# then come back later and add in the rest of your code"
   ]
  },
  {
   "cell_type": "code",
   "execution_count": null,
   "metadata": {
    "id": "Xji94imz0Ux9"
   },
   "outputs": [],
   "source": []
  },
  {
   "cell_type": "markdown",
   "metadata": {
    "id": "aibNwDdO0Ux9"
   },
   "source": [
    "##### Double For Loops"
   ]
  },
  {
   "cell_type": "code",
   "execution_count": 31,
   "metadata": {
    "id": "uCZQ3soX0Ux9"
   },
   "outputs": [
    {
     "name": "stdout",
     "output_type": "stream",
     "text": [
      "i = 0 and j = 0\n",
      "i = 0 and j = 1\n",
      "i = 0 and j = 2\n",
      "i = 0 and j = 3\n",
      "i = 0 and j = 4\n",
      "i = 1 and j = 0\n",
      "i = 1 and j = 1\n",
      "i = 1 and j = 2\n",
      "i = 1 and j = 3\n",
      "i = 1 and j = 4\n",
      "i = 2 and j = 0\n",
      "i = 2 and j = 1\n",
      "i = 2 and j = 2\n",
      "i = 2 and j = 3\n",
      "i = 2 and j = 4\n",
      "i = 3 and j = 0\n",
      "i = 3 and j = 1\n",
      "i = 3 and j = 2\n",
      "i = 3 and j = 3\n",
      "i = 3 and j = 4\n",
      "i = 4 and j = 0\n",
      "i = 4 and j = 1\n",
      "i = 4 and j = 2\n",
      "i = 4 and j = 3\n",
      "i = 4 and j = 4\n"
     ]
    }
   ],
   "source": [
    "# also called nested loops\n",
    "# nested for loops aren't very efficient\n",
    "# in the example below, for a list of 5 elements\n",
    "# the list has to run 25 different times\n",
    "for i in range(5):\n",
    "    for j in range(5):\n",
    "        print(f\"i = {i} and j = {j}\")"
   ]
  },
  {
   "cell_type": "markdown",
   "metadata": {
    "id": "ADoEkxFt0Ux-"
   },
   "source": [
    "### While Loops"
   ]
  },
  {
   "cell_type": "code",
   "execution_count": 32,
   "metadata": {
    "id": "En9Yv_yF0Ux-"
   },
   "outputs": [
    {
     "name": "stdout",
     "output_type": "stream",
     "text": [
      "0\n",
      "1\n",
      "2\n",
      "3\n",
      "4\n",
      "5\n",
      "6\n",
      "7\n",
      "8\n",
      "9\n"
     ]
    }
   ],
   "source": [
    "# INFINITE LOOPS!!! BE CAREFUL\n",
    "# whill run the block of code as long ass something is true\n",
    "# it will continue running until a certain condition is met\n",
    "# sytax:  while (some conditional statement)\n",
    "num = 0\n",
    "while num < 10:\n",
    "    print(num)\n",
    "    num += 1\n",
    "# num += 1 is what keeps you from getting caught in an infinite loop"
   ]
  },
  {
   "cell_type": "markdown",
   "metadata": {
    "id": "7miVoC2I0Ux-"
   },
   "source": [
    "##### Looping 'While True'"
   ]
  },
  {
   "cell_type": "code",
   "execution_count": 33,
   "metadata": {
    "id": "vZjrzDdO0Ux-",
    "scrolled": true
   },
   "outputs": [],
   "source": [
    "# game_over = False\n",
    "\n",
    "# while True:\n",
    "#     ask = input(\"do you want to continue playing\")\n",
    "#     print(\"infinite loop\")\n",
    "#     if ask == \"no\":\n",
    "#         break\n",
    "#     print(\"gameplay happening\")\n",
    "#     print(\"game ended\")\n",
    "# print(\"loop ended\")"
   ]
  },
  {
   "cell_type": "markdown",
   "metadata": {
    "id": "8QyYOLuT0Ux_"
   },
   "source": [
    "##### While & For Loops Used Together"
   ]
  },
  {
   "cell_type": "code",
   "execution_count": 34,
   "metadata": {
    "id": "tZdQZ9v90Ux_"
   },
   "outputs": [
    {
     "name": "stdout",
     "output_type": "stream",
     "text": [
      "While Loop Iteration 0\n",
      "For Loop Iteration: (i)\n",
      "For Loop Iteration: (i)\n",
      "\n",
      "\n",
      "While Loop Iteration 1\n",
      "For Loop Iteration: (i)\n",
      "For Loop Iteration: (i)\n",
      "\n",
      "\n",
      "While Loop Iteration 2\n",
      "For Loop Iteration: (i)\n",
      "For Loop Iteration: (i)\n",
      "\n",
      "\n",
      "While Loop Iteration 3\n",
      "For Loop Iteration: (i)\n",
      "For Loop Iteration: (i)\n",
      "\n",
      "\n",
      "While Loop Iteration 4\n",
      "For Loop Iteration: (i)\n",
      "For Loop Iteration: (i)\n",
      "\n",
      "\n"
     ]
    }
   ],
   "source": [
    "num = 0\n",
    "\n",
    "while num < 5:\n",
    "    print(f\"While Loop Iteration {num}\")\n",
    "    \n",
    "    for i in range(2):\n",
    "        print(f\"For Loop Iteration: (i)\")\n",
    "    \n",
    "    num += 1\n",
    "    print(\"\\n\")"
   ]
  },
  {
   "cell_type": "markdown",
   "metadata": {
    "id": "pciuIY-P0Ux_"
   },
   "source": [
    "### Built-In Functions"
   ]
  },
  {
   "cell_type": "markdown",
   "metadata": {
    "id": "ug0cZB5Q0UyA"
   },
   "source": [
    "##### range()"
   ]
  },
  {
   "cell_type": "code",
   "execution_count": 35,
   "metadata": {
    "id": "OFqEuwbm0UyA"
   },
   "outputs": [
    {
     "name": "stdout",
     "output_type": "stream",
     "text": [
      "[0, 1, 2, 3, 4, 5, 6, 7, 8, 9]\n",
      "5\n",
      "7\n",
      "9\n"
     ]
    }
   ],
   "source": [
    "# range makes range objects\n",
    "range(10)\n",
    "# if you want a list, us list\n",
    "print(list(range(10)))\n",
    "# range (start, stop, step)\n",
    "for i in range(5, 10, 2):\n",
    "    print(i)"
   ]
  },
  {
   "cell_type": "markdown",
   "metadata": {
    "id": "T7--52wG0UyA"
   },
   "source": [
    "##### len()"
   ]
  },
  {
   "cell_type": "code",
   "execution_count": 36,
   "metadata": {
    "id": "Dj1_3GAQ0UyB"
   },
   "outputs": [
    {
     "name": "stdout",
     "output_type": "stream",
     "text": [
      "4\n",
      "Brian\n",
      "Kevin\n",
      "Jessica\n",
      "Derek\n"
     ]
    }
   ],
   "source": [
    "# checks the length of a variable\n",
    "#name = \"jessica\"\n",
    "#print(len(name))\n",
    "number = 123456786\n",
    "# you can't do len of a int print(len(number))\n",
    "# list = [1, 2, 3, 4, 5]\n",
    "# but you can do a list\n",
    "# print(len(list))\n",
    "# use range and length together\n",
    "names = [\"Brian\", \"Kevin\", \"Jessica\", \"Derek\"]\n",
    "print(len(names))\n",
    "for i in range(len(names)):\n",
    "    print(names[i])"
   ]
  },
  {
   "cell_type": "markdown",
   "metadata": {
    "id": "YkVJRvhk0UyB"
   },
   "source": [
    "##### help()"
   ]
  },
  {
   "cell_type": "code",
   "execution_count": 37,
   "metadata": {
    "id": "CkEKWY9K0UyC"
   },
   "outputs": [],
   "source": [
    "#help(functon name)\n",
    "#dir(function name) gives you something... i can't remmeber"
   ]
  },
  {
   "cell_type": "markdown",
   "metadata": {
    "id": "hMIcdBUj0UyC"
   },
   "source": [
    "##### isinstance()"
   ]
  },
  {
   "cell_type": "code",
   "execution_count": 38,
   "metadata": {
    "id": "JJ8XZ1Kw0UyC"
   },
   "outputs": [],
   "source": [
    "# checks a variable to find out what object family it belongs to\n",
    "# ininstance(variable, type)\n",
    "# print(isinstance(4, int))\n",
    "\n",
    "\n",
    "# some_num = 4.0\n",
    "# if isinstance(some_num, float):\n",
    "   # print(\"This number is a float\")\n",
    "# else:\n",
    "   # print(\"not a float\")"
   ]
  },
  {
   "cell_type": "markdown",
   "metadata": {
    "id": "jCLmvBns0UyC"
   },
   "source": [
    "\n",
    "##### abs()"
   ]
  },
  {
   "cell_type": "code",
   "execution_count": 39,
   "metadata": {
    "id": "rO2wLmQo0UyD"
   },
   "outputs": [
    {
     "data": {
      "text/plain": [
       "5"
      ]
     },
     "execution_count": 39,
     "metadata": {},
     "output_type": "execute_result"
    }
   ],
   "source": [
    "#absolute value\n",
    "# how far that number is from zero\n",
    "abs(-5)"
   ]
  },
  {
   "cell_type": "markdown",
   "metadata": {
    "id": "8sHTz4860UyD"
   },
   "source": [
    "### Try and Except"
   ]
  },
  {
   "cell_type": "code",
   "execution_count": 40,
   "metadata": {
    "id": "lrMn6nR60UyD"
   },
   "outputs": [],
   "source": [
    "# used to try something and if it fails provide some kind of exception\n",
    "# use when you expect to find a bug so that program doesn't stop\n",
    "# try:\n",
    "#    put your stuff here\n",
    "# except:\n",
    "#    if the above errors out, what should happen?\n",
    "\n"
   ]
  },
  {
   "cell_type": "markdown",
   "metadata": {
    "id": "7LNP-pyz0UyD"
   },
   "source": [
    "### Lists"
   ]
  },
  {
   "cell_type": "markdown",
   "metadata": {
    "id": "xev9LiFp0UyE"
   },
   "source": [
    "##### Declaring Lists"
   ]
  },
  {
   "cell_type": "code",
   "execution_count": 41,
   "metadata": {
    "id": "N1ol_HG50UyE"
   },
   "outputs": [],
   "source": [
    "# you can put almost anything in a list\n",
    "# an ordered collection of data\n",
    "# declare a list using square brackets, this is an\n",
    "# empty list decloration\n",
    "list = []\n",
    "# or declare a list using a non-empty list decloration\n",
    "#list = [\"dog\", \"cat\", \"bird\"]\n",
    "# make a list out of a non list using the list() function\n",
    "# list = list(1, 2, 3)"
   ]
  },
  {
   "cell_type": "markdown",
   "metadata": {
    "id": "1-NLXQKm0UyE"
   },
   "source": [
    "##### Indexing a List"
   ]
  },
  {
   "cell_type": "code",
   "execution_count": 42,
   "metadata": {
    "id": "p0zm1U2n0UyF"
   },
   "outputs": [
    {
     "name": "stdout",
     "output_type": "stream",
     "text": [
      "Brian\n",
      "['Brian', 'Kevin']\n",
      "['Kevin', 'Jessica', 'Derek']\n",
      "['Kevin', 'Derek']\n",
      "Derek\n",
      "['Derek', 'Jessica', 'Kevin', 'Brian']\n"
     ]
    }
   ],
   "source": [
    "# how to grab certain parts of a list\n",
    "# [start, stop, step]\n",
    "# single item from a list\n",
    "# item at index 0\n",
    "print(names[0])\n",
    "# items and index 0 thru 1\n",
    "print(names[0:2])\n",
    "# items at index 1 thru the end\n",
    "print(names[1:])\n",
    "# items starting at index 1 going to the end skipping every other one\n",
    "print(names[1::2])\n",
    "# print the last item \n",
    "print(names[-1])\n",
    "print(names[::-1])"
   ]
  },
  {
   "cell_type": "markdown",
   "metadata": {
    "id": "6WcyXkWQ0UyF"
   },
   "source": [
    "##### .append()"
   ]
  },
  {
   "cell_type": "code",
   "execution_count": 43,
   "metadata": {
    "id": "JIhu_jb70UyF"
   },
   "outputs": [
    {
     "name": "stdout",
     "output_type": "stream",
     "text": [
      "['Brian', 'Kevin', 'Jessica', 'Derek', 'Sara']\n"
     ]
    }
   ],
   "source": [
    "# appends to the end of a list\n",
    "# appends one item at a time\n",
    "names.append(\"Sara\")\n",
    "print(names)"
   ]
  },
  {
   "cell_type": "markdown",
   "metadata": {
    "id": "WzCxy9Kh0UyF"
   },
   "source": [
    "##### .insert()"
   ]
  },
  {
   "cell_type": "code",
   "execution_count": 44,
   "metadata": {
    "id": "gBZTZNx90UyG"
   },
   "outputs": [
    {
     "name": "stdout",
     "output_type": "stream",
     "text": [
      "['Brian', 'Kevin', 'Kelly', 'Jessica', 'Derek', 'Sara']\n"
     ]
    }
   ],
   "source": [
    "# for adding things to lists\n",
    "names.insert(2, \"Kelly\")\n",
    "print(names)"
   ]
  },
  {
   "cell_type": "markdown",
   "metadata": {
    "id": "Qd_6vFUE0UyG"
   },
   "source": [
    "##### .pop()"
   ]
  },
  {
   "cell_type": "code",
   "execution_count": 45,
   "metadata": {
    "id": "4lEJ6bs20UyH"
   },
   "outputs": [
    {
     "name": "stdout",
     "output_type": "stream",
     "text": [
      "Sara\n",
      "['Brian', 'Kevin', 'Kelly', 'Jessica']\n",
      "['Brian', 'Kevin', 'Kelly', 'Jessica', 'Derek', 'Sara']\n"
     ]
    }
   ],
   "source": [
    "# if no parameter is given, pop removes an element and returns it\n",
    "# in case you want to assign it to a variable.\n",
    "names = ['Brian', 'Kevin', 'Kelly', 'Jessica', 'Derek', 'Sara']\n",
    "ta_name = names.pop()\n",
    "print(ta_name)\n",
    "names.pop()\n",
    "print(names)\n",
    "# reset names list \n",
    "names = ['Brian', 'Kevin', 'Kelly', 'Jessica', 'Derek', 'Sara']\n",
    "print(names)"
   ]
  },
  {
   "cell_type": "markdown",
   "metadata": {
    "id": "f43irPKp0UyJ"
   },
   "source": [
    "\n",
    "##### .remove()"
   ]
  },
  {
   "cell_type": "code",
   "execution_count": 46,
   "metadata": {
    "id": "ahbcll2V0UyJ"
   },
   "outputs": [],
   "source": [
    "# # it does not return like pop does\n",
    "# # and it uses a value to be removed, not an index\n",
    "# names = ['Brian', 'Kevin', 'Kelly', 'Jessica', 'Derek', 'Sara']\n",
    "# names.remove(\"Kelly\")\n",
    "# print(names)\n",
    "# # if theres more than one element that matches, it will only remove\n",
    "# # \n",
    "\n",
    "# # use while loop to avoid erros where it skips items\n",
    "# while bob in names():\n",
    "#     names.remove(\"Bob\")"
   ]
  },
  {
   "cell_type": "markdown",
   "metadata": {
    "id": "B_kfhAvT0UyJ"
   },
   "source": [
    "##### del()"
   ]
  },
  {
   "cell_type": "code",
   "execution_count": 47,
   "metadata": {
    "id": "duIfNYPU0UyK"
   },
   "outputs": [
    {
     "name": "stdout",
     "output_type": "stream",
     "text": [
      "['Brian', 'Kevin', 'Kelly', 'Jessica', 'Derek', 'Sara']\n"
     ]
    }
   ],
   "source": [
    "#BE CAREFUl BECAUSE del can cause index errors\n",
    "print(names)\n"
   ]
  },
  {
   "cell_type": "markdown",
   "metadata": {
    "id": "L0TUFgKU0UyK"
   },
   "source": [
    "##### Concatenating Two Lists"
   ]
  },
  {
   "cell_type": "code",
   "execution_count": 48,
   "metadata": {
    "id": "p-LED6ZA0UyK"
   },
   "outputs": [
    {
     "name": "stdout",
     "output_type": "stream",
     "text": [
      "[0, 1, 3, 3, 4, 5]\n"
     ]
    }
   ],
   "source": [
    "# make two lists into one list (not add up elements)\n",
    "l2 = [0, 1, 3]\n",
    "l3 = [3, 4, 5]\n",
    "l4 = l2 + l3\n",
    "print(l4)"
   ]
  },
  {
   "cell_type": "markdown",
   "metadata": {
    "id": "bTniOEQW0UyK"
   },
   "source": [
    "##### Lists Within Lists"
   ]
  },
  {
   "cell_type": "code",
   "execution_count": 49,
   "metadata": {
    "id": "y5LH9ca30UyL"
   },
   "outputs": [
    {
     "name": "stdout",
     "output_type": "stream",
     "text": [
      "['Brian', 'Kevin', 'Kelly', 'Jessica', 'Derek', 'Sara']\n",
      "['Brian', 'Kevin', 'Jessica', 'Derek', 'Sara', ['Dorothy', 'toto']]\n",
      "['Dorothy', 'toto']\n"
     ]
    }
   ],
   "source": [
    "# lists can hold any type of element including other lists\n",
    "# go as deep as you want (having as many lists nested inside each other as you want)\n",
    "print(names)\n",
    "names = ['Brian', 'Kevin', 'Jessica', 'Derek', 'Sara', [\"Dorothy\", \"toto\"]]\n",
    "print(names)\n",
    "print(names[5])\n",
    "# see how Dorothy and toto are returned for index 5 because its a nested list\n"
   ]
  },
  {
   "cell_type": "markdown",
   "metadata": {
    "id": "klBlZ3VN0UyL"
   },
   "source": [
    "##### Looping Through Lists"
   ]
  },
  {
   "cell_type": "code",
   "execution_count": 50,
   "metadata": {
    "id": "LPQGrrkR0UyL",
    "scrolled": true
   },
   "outputs": [
    {
     "name": "stdout",
     "output_type": "stream",
     "text": [
      "0\n",
      "1\n",
      "2\n",
      "3\n",
      "4\n",
      "Brian\n",
      "Kevin\n",
      "Jessica\n",
      "Derek\n",
      "Sara\n"
     ]
    }
   ],
   "source": [
    "names = ['Brian', 'Kevin', 'Jessica', 'Derek', 'Sara']\n",
    "# using the index\n",
    "for i in range(len(names)):\n",
    "    print(i)\n",
    "# using the n keyword\n",
    "for i in names:\n",
    "    print(i)"
   ]
  },
  {
   "cell_type": "markdown",
   "metadata": {
    "id": "da2xPUrt0UyL"
   },
   "source": [
    "## Exercise #1 <br>\n",
    "<p>Cube Number Test... Print out all cubed numbers up to the total value 1000. Meaning that if the cubed number is over 1000 break the loop.</p>"
   ]
  },
  {
   "cell_type": "code",
   "execution_count": 51,
   "metadata": {
    "id": "sGTsWZ-C0UyL"
   },
   "outputs": [
    {
     "name": "stdout",
     "output_type": "stream",
     "text": [
      "0\n",
      "1\n",
      "8\n",
      "27\n",
      "64\n",
      "125\n",
      "216\n",
      "343\n",
      "512\n",
      "729\n"
     ]
    }
   ],
   "source": [
    "# have the loop print out the cubed number\n",
    "# 1 8 27... until you reach 1,000.\n",
    "# aka: what cubed numbers have a value less than 1000\n",
    "\n",
    "\n",
    "for num in range(100):\n",
    "    if num ** 3 < 1000:\n",
    "        print(num ** 3)\n",
    "     \n",
    "    else: \n",
    "        break\n",
    "\n",
    "        "
   ]
  },
  {
   "cell_type": "markdown",
   "metadata": {
    "id": "BHVN4d4R0UyL"
   },
   "source": [
    "## Exercise #2 <br>\n",
    "<p>Get first prime numbers up to 100</p>"
   ]
  },
  {
   "cell_type": "code",
   "execution_count": 52,
   "metadata": {
    "id": "Wa9_WsNo0UyL"
   },
   "outputs": [
    {
     "name": "stdout",
     "output_type": "stream",
     "text": [
      "1\n",
      "2\n",
      "11\n",
      "13\n",
      "17\n",
      "19\n",
      "23\n",
      "29\n",
      "31\n",
      "37\n",
      "41\n",
      "43\n",
      "47\n",
      "53\n",
      "59\n",
      "61\n",
      "67\n",
      "71\n",
      "73\n",
      "79\n",
      "83\n",
      "89\n",
      "97\n"
     ]
    }
   ],
   "source": [
    "# HINT::\n",
    "# An else after an if runs if the if didn’t\n",
    "# An else after a for runs if the for didn’t break\n",
    "\n",
    "\n",
    "for i in range(101):\n",
    "    if i == 2:\n",
    "        print(i)\n",
    "    elif i % 2 != 0 and i % 3 != 0 and i % 5 != 0 and i % 7 != 0 and i != 2:\n",
    "        print(i)\n",
    "    else:\n",
    "        continue\n",
    "    "
   ]
  },
  {
   "cell_type": "markdown",
   "metadata": {
    "id": "uf6hkoJA0UyM"
   },
   "source": [
    "# Exercise 3 <br>\n",
    "<p>Take in a users input for their age, if they are younger than 18 print kids, if they're 18 to 65 print adults, else print seniors</p>"
   ]
  },
  {
   "cell_type": "code",
   "execution_count": 53,
   "metadata": {
    "id": "0mow8G440UyM"
   },
   "outputs": [
    {
     "name": "stdout",
     "output_type": "stream",
     "text": [
      "What is your age?44\n",
      "adults\n"
     ]
    }
   ],
   "source": [
    "age = int(input(\"What is your age?\"))\n",
    "if age > 65:\n",
    "    print(\"seniors\")\n",
    "elif age > 18:\n",
    "    print(\"adults\")\n",
    "else:\n",
    "    print(\"kids\")"
   ]
  },
  {
   "cell_type": "code",
   "execution_count": null,
   "metadata": {},
   "outputs": [],
   "source": []
  }
 ],
 "metadata": {
  "colab": {
   "name": "Monday_Lesson_Inclass_Lecture.ipynb",
   "provenance": []
  },
  "kernelspec": {
   "display_name": "Python 3",
   "language": "python",
   "name": "python3"
  },
  "language_info": {
   "codemirror_mode": {
    "name": "ipython",
    "version": 3
   },
   "file_extension": ".py",
   "mimetype": "text/x-python",
   "name": "python",
   "nbconvert_exporter": "python",
   "pygments_lexer": "ipython3",
   "version": "3.8.3"
  }
 },
 "nbformat": 4,
 "nbformat_minor": 1
}
