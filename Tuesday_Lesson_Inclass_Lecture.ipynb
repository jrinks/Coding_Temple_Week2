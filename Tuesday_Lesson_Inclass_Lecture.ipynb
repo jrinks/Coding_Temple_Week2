{
 "cells": [
  {
   "cell_type": "markdown",
   "metadata": {
    "id": "aQXMPQ6DwkAO"
   },
   "source": [
    "# Functions, Scoping, Data Collections 1 & List Comprehensions"
   ]
  },
  {
   "cell_type": "markdown",
   "metadata": {
    "id": "JY2aCa0UwkAX"
   },
   "source": [
    "## Tasks Today:\n",
    "\n",
    "<i>Monday Additions (or, and ... if statements)</i>\n",
    "\n",
    "1) String Manipulation <br>\n",
    " &nbsp;&nbsp;&nbsp;&nbsp; a) strip() <br>\n",
    " &nbsp;&nbsp;&nbsp;&nbsp; b) title() <br>\n",
    "2) Working With Lists <br>\n",
    " &nbsp;&nbsp;&nbsp;&nbsp; a) min() <br>\n",
    " &nbsp;&nbsp;&nbsp;&nbsp; b) max() <br>\n",
    " &nbsp;&nbsp;&nbsp;&nbsp; c) sum() <br>\n",
    " &nbsp;&nbsp;&nbsp;&nbsp; d) sort() <br>\n",
    " &nbsp;&nbsp;&nbsp;&nbsp; e) Copying a List <br>\n",
    " &nbsp;&nbsp;&nbsp;&nbsp; f) 'in' keyword <br>\n",
    " &nbsp;&nbsp;&nbsp;&nbsp; g) 'not in' keyword <br>\n",
    " &nbsp;&nbsp;&nbsp;&nbsp; i) Checking an Empty List <br>\n",
    " &nbsp;&nbsp;&nbsp;&nbsp; j) Removing Instances with a Loop <br>\n",
    "3) List Comprehensions <br>\n",
    "4) Tuples <br>\n",
    " &nbsp;&nbsp;&nbsp;&nbsp; a) sorted() <br>\n",
    "5) Functions <br>\n",
    " &nbsp;&nbsp;&nbsp;&nbsp; a) User-Defined vs. Built-In Functions <br>\n",
    " &nbsp;&nbsp;&nbsp;&nbsp; b) Accepting Parameters <br>\n",
    " &nbsp;&nbsp;&nbsp;&nbsp; c) Default Parameters <br>\n",
    " &nbsp;&nbsp;&nbsp;&nbsp; d) Making an Argument Optional <br>\n",
    " &nbsp;&nbsp;&nbsp;&nbsp; e) Keyword Arguments <br>\n",
    " &nbsp;&nbsp;&nbsp;&nbsp; f) Returning Values <br>\n",
    " &nbsp;&nbsp;&nbsp;&nbsp; g) *args <br>\n",
    " &nbsp;&nbsp;&nbsp;&nbsp; h) Docstring <br>\n",
    " &nbsp;&nbsp;&nbsp;&nbsp; i) Using a User Function in a Loop <br>\n",
    "6) Scope"
   ]
  },
  {
   "cell_type": "markdown",
   "metadata": {
    "id": "cKdJxVquwkAa"
   },
   "source": [
    "### String Manipulation"
   ]
  },
  {
   "cell_type": "markdown",
   "metadata": {
    "id": "MbFDIezYwkAb"
   },
   "source": [
    "##### .lstrip()"
   ]
  },
  {
   "cell_type": "code",
   "execution_count": 10,
   "metadata": {
    "id": "2BaO_NRZwkAc"
   },
   "outputs": [
    {
     "name": "stdout",
     "output_type": "stream",
     "text": [
      "            hJohn Smite        \n",
      "hJohn Smite        \n",
      "John Smite        \n",
      "John Smite        \n",
      "            hJohn Smite        \n",
      "John Smite        \n"
     ]
    }
   ],
   "source": [
    "# string.lstrip()\n",
    "name = \"            hJohn Smite        \"\n",
    "print(name)\n",
    "print(name.lstrip())\n",
    "# below will start at the left and remove any of the characters\n",
    "# we specify (in this case a space or an h)... they don't have\n",
    "# to be in order or together, But as soon as it reaches\n",
    "# a character that's not in this list, it will stop the function\n",
    "print(name.lstrip(\" h\"))\n",
    "# or you can write it like this\n",
    "print(name.lstrip(\" \" \"h\"))\n",
    "# but if you put a coma in there it will error out\n",
    "# print(name.listrip(\" \", \"h\"))\n",
    "# we aren't changing the value of the variable name\n",
    "print(name)\n",
    "# we'd have to do this\n",
    "name = name.lstrip(\" h\")\n",
    "print (name)"
   ]
  },
  {
   "cell_type": "markdown",
   "metadata": {
    "id": "kEsj48ZRwkAd"
   },
   "source": [
    "##### .rstrip()"
   ]
  },
  {
   "cell_type": "code",
   "execution_count": null,
   "metadata": {
    "id": "6gqj3mGlwkAd"
   },
   "outputs": [],
   "source": [
    "# string.rstrip()\n",
    "# same as lstrip just starts at the right side"
   ]
  },
  {
   "cell_type": "markdown",
   "metadata": {
    "id": "IsjyGiSvwkAe"
   },
   "source": [
    "##### .strip()"
   ]
  },
  {
   "cell_type": "code",
   "execution_count": 15,
   "metadata": {
    "id": "vcq_LrgIwkAf"
   },
   "outputs": [
    {
     "name": "stdout",
     "output_type": "stream",
     "text": [
      "            hJohn Smite        \n",
      "hJohn Smite\n",
      "John Smit\n"
     ]
    }
   ],
   "source": [
    "# string.strip()\n",
    "# this strips from both sides\n",
    "name = \"            hJohn Smite        \"\n",
    "print(name)\n",
    "print(name.strip())\n",
    "print(name.strip(\" he\"))"
   ]
  },
  {
   "cell_type": "markdown",
   "metadata": {
    "id": "EIP2Um1YwkAf"
   },
   "source": [
    "##### .title()"
   ]
  },
  {
   "cell_type": "code",
   "execution_count": 18,
   "metadata": {
    "id": "5sDyerwawkAh"
   },
   "outputs": [
    {
     "name": "stdout",
     "output_type": "stream",
     "text": [
      "Jessica Rinks\n"
     ]
    }
   ],
   "source": [
    "# string.title()\n",
    "name = \"jessica rinks\"\n",
    "print(name.title())"
   ]
  },
  {
   "cell_type": "markdown",
   "metadata": {
    "id": "cmaq-0o5wkAj"
   },
   "source": [
    "### String Exercise <br>\n",
    "<p>Strip all white space and capitalize every name in the list given</p>"
   ]
  },
  {
   "cell_type": "code",
   "execution_count": 27,
   "metadata": {
    "id": "qnVfIEEYwkAk"
   },
   "outputs": [
    {
     "name": "stdout",
     "output_type": "stream",
     "text": [
      "Connor\n",
      "Max\n",
      "Evan\n",
      "Jordan\n"
     ]
    }
   ],
   "source": [
    "names = ['    coNNor', 'max', ' EVan ', 'JORDAN']\n",
    "# HINT: You will need to use a for loop for iteration\n",
    "for name in names:\n",
    "    name = name.strip()\n",
    "    name = name.title()\n",
    "    # or string them togther like this\n",
    "    # name = name.strip().title())\n",
    "    print(name)\n",
    "    \n"
   ]
  },
  {
   "cell_type": "markdown",
   "metadata": {
    "id": "Y6_KvDQfwkAl"
   },
   "source": [
    "### Working With Lists"
   ]
  },
  {
   "cell_type": "markdown",
   "metadata": {
    "id": "m-3iF7wXwkAl"
   },
   "source": [
    "##### min()"
   ]
  },
  {
   "cell_type": "code",
   "execution_count": 30,
   "metadata": {
    "id": "10p1C6blwkAm"
   },
   "outputs": [
    {
     "name": "stdout",
     "output_type": "stream",
     "text": [
      "25\n"
     ]
    }
   ],
   "source": [
    "# min(list)\n",
    "# min value in the list\n",
    "num_list = [33, 25, 789, 100]\n",
    "print(min(num_list))"
   ]
  },
  {
   "cell_type": "markdown",
   "metadata": {
    "id": "YTDJQWd3wkAn"
   },
   "source": [
    "##### max()"
   ]
  },
  {
   "cell_type": "code",
   "execution_count": 32,
   "metadata": {
    "id": "GiMe32bVwkAn"
   },
   "outputs": [
    {
     "name": "stdout",
     "output_type": "stream",
     "text": [
      "789\n"
     ]
    }
   ],
   "source": [
    "# max(list)\n",
    "# max value in the list\n",
    "num_list = [33, 25, 789, 100]\n",
    "print(max(num_list))\n",
    "# if you use min and max on strings, it will give you\n",
    "# the first item based on first letter closest to beginning\n",
    "# of alphabet"
   ]
  },
  {
   "cell_type": "markdown",
   "metadata": {
    "id": "AM6rWj6NwkAo"
   },
   "source": [
    "##### sum()"
   ]
  },
  {
   "cell_type": "code",
   "execution_count": 37,
   "metadata": {
    "id": "kejRtL95wkAp"
   },
   "outputs": [
    {
     "name": "stdout",
     "output_type": "stream",
     "text": [
      "947\n",
      "947.0\n"
     ]
    }
   ],
   "source": [
    "# sum(list)\n",
    "# sums the values in a list\n",
    "num_list = [33, 25, 789, 100]\n",
    "print(sum(num_list))\n",
    "num_list = [33.0, 25, 789, 100]\n",
    "print(sum(num_list))\n",
    "# string will error it out\n",
    "# num_list = [33.0, \"twenty five\", 789, 100]\n",
    "# print(sum(num_list))"
   ]
  },
  {
   "cell_type": "markdown",
   "metadata": {
    "id": "JenfLyTjwkAp"
   },
   "source": [
    "##### sorted()"
   ]
  },
  {
   "cell_type": "markdown",
   "metadata": {},
   "source": []
  },
  {
   "cell_type": "code",
   "execution_count": 43,
   "metadata": {
    "id": "KzBEQzgGwkAq"
   },
   "outputs": [
    {
     "name": "stdout",
     "output_type": "stream",
     "text": [
      "[25, 33, 100, 789]\n",
      "[789, 100, 33, 25]\n",
      "['max', ' EVan ', 'JORDAN', '    coNNor']\n"
     ]
    }
   ],
   "source": [
    "# you can sort things other than lists too\n",
    "# sorted(list)\n",
    "num_list = [33, 25, 789, 100]\n",
    "print(sorted(num_list))\n",
    "print(sorted(num_list, reverse=True))\n",
    "# you can use sorted to sort a list of strings according\n",
    "# to the number of characters\n",
    "print(sorted(names, key=len))"
   ]
  },
  {
   "cell_type": "markdown",
   "metadata": {
    "id": "4kqSmngDwkAr"
   },
   "source": [
    "##### .sort() <br>\n",
    "<p>Difference between sort and sorted, is that sorted doesn't change original list it returns a copy, while .sort changes the original list</p>"
   ]
  },
  {
   "cell_type": "code",
   "execution_count": 47,
   "metadata": {
    "id": "YHbc9QUjwkAs"
   },
   "outputs": [
    {
     "name": "stdout",
     "output_type": "stream",
     "text": [
      "None\n"
     ]
    }
   ],
   "source": [
    "# sort only works on a list\n",
    "# it doesn't return anything, it just alters the existing object\n",
    "# list.sort()\n",
    "num_list2 = [33, 107, 77, 25, 789, 100]\n",
    "print(num_list2.sort())\n",
    "# most functions take an input and retun an output\n",
    "# because you put return in there\n",
    "# but sort function does not do that\n",
    "# unless you tell it to\n",
    "# use sorted when you don't want to alter original list, use .sort() when you want to alter original list"
   ]
  },
  {
   "cell_type": "markdown",
   "metadata": {
    "id": "WFBCllgUwkAs"
   },
   "source": [
    "##### Copying a List"
   ]
  },
  {
   "cell_type": "code",
   "execution_count": 50,
   "metadata": {
    "id": "Abu5RmuRwkAt"
   },
   "outputs": [
    {
     "name": "stdout",
     "output_type": "stream",
     "text": [
      "[1, 2, 3, 6]\n",
      "[1, 2, 3, 6]\n",
      "[1, 2, 3, 6]\n",
      "[1, 2, 3]\n"
     ]
    }
   ],
   "source": [
    "# [:] copies a list, doesn't alter original\n",
    "list3 = [1, 2, 3]\n",
    "list4 = list3\n",
    "# copying an index of a list makes a new list in memory\n",
    "# wheras just setting a list equal to another list\n",
    "# just points to the same place in memory\n",
    "list4.append(6)\n",
    "print(list3)\n",
    "print(list4)\n",
    "# so, here list3 and list4 both point to same place in memory\n",
    "# if you append to list 3, you're also appending to list4\n",
    "\n",
    "list5 = [1, 2, 3]\n",
    "# here we set list6 equal to an index of list5\n",
    "# which makes a copy\n",
    "# so we can now change list5 and list6 independantly\n",
    "# because they aren't pointed to the same place in memory\n",
    "list6 = list5[:]\n",
    "list5.append(6)\n",
    "print(list5)\n",
    "print(list6)\n",
    "\n",
    "\n",
    "# sidenote \n",
    "# The difference between shallow and deep copying is only relevant for compound objects (objects that contain other objects, like lists or class instances):\n",
    "# A shallow copy constructs a new compound object and then (to the extent possible) inserts references into it to the objects found in the original.\n",
    "# A deep copy constructs a new compound object and then, recursively, inserts copies into it of the objects found in the original.\n",
    "# https://www.geeksforgeeks.org/copy-python-deep-copy-shallow-copy/"
   ]
  },
  {
   "cell_type": "markdown",
   "metadata": {
    "id": "j0tdPnjRwkAu"
   },
   "source": [
    "##### 'in' keyword"
   ]
  },
  {
   "cell_type": "code",
   "execution_count": 54,
   "metadata": {
    "id": "dTqG3BUlwkAu"
   },
   "outputs": [
    {
     "name": "stdout",
     "output_type": "stream",
     "text": [
      "yes\n",
      "yes\n"
     ]
    }
   ],
   "source": [
    "friends = [\"Gina\", \"Kimberly\", \"Naoto\"]\n",
    "# look for an item in a list\n",
    "if \"Gina\" in friends:\n",
    "    print(\"yes\")\n",
    "    \n",
    "# look for a letter in a string in an item in a list\n",
    "for friend in friends:\n",
    "    if \"G\" in friend:\n",
    "        print(\"yes\")"
   ]
  },
  {
   "cell_type": "markdown",
   "metadata": {
    "id": "-MrP9vTbwkAu"
   },
   "source": [
    "##### 'not in' keyword"
   ]
  },
  {
   "cell_type": "code",
   "execution_count": 56,
   "metadata": {
    "id": "q-UknsvxwkAv"
   },
   "outputs": [
    {
     "name": "stdout",
     "output_type": "stream",
     "text": [
      "yes\n"
     ]
    }
   ],
   "source": [
    "friends = [\"Gina\", \"Kimberly\", \"Naoto\"]\n",
    "if \"Gina\" not in friends:\n",
    "    print(\"no\")\n",
    "else:\n",
    "    print(\"yes\")"
   ]
  },
  {
   "cell_type": "markdown",
   "metadata": {
    "id": "eWtvagZDwkAv"
   },
   "source": [
    "##### Checking an Empty List"
   ]
  },
  {
   "cell_type": "code",
   "execution_count": 60,
   "metadata": {
    "id": "ZEih0rfYwkAw"
   },
   "outputs": [
    {
     "name": "stdout",
     "output_type": "stream",
     "text": [
      "not empty\n",
      "not empty\n"
     ]
    }
   ],
   "source": [
    "# if l_1: or if l_1 = []\n",
    "friends = [\"Gina\", \"Kimberly\", \"Naoto\"]\n",
    "\n",
    "# if list is equal to an empty list\n",
    "if friends == []:\n",
    "    print(\"empty\")\n",
    "else:\n",
    "    print(\"not empty\")\n",
    "\n",
    "\n",
    "# if list has something in it\n",
    "if friends:\n",
    "    print(\"not empty\")"
   ]
  },
  {
   "cell_type": "markdown",
   "metadata": {
    "id": "EO3CAhmLwkAy"
   },
   "source": [
    "##### Removing Instances with a Loop"
   ]
  },
  {
   "cell_type": "code",
   "execution_count": 65,
   "metadata": {
    "id": "KW7aLK24wkAz"
   },
   "outputs": [
    {
     "name": "stdout",
     "output_type": "stream",
     "text": [
      "['Kimberly', 'Naoto']\n",
      "['Kimberly', 'Naoto']\n"
     ]
    }
   ],
   "source": [
    "# while, remove\n",
    "friends = [\"Gina\", \"Kimberly\", \"Naoto\"]\n",
    "while \"Gina\" in friends:\n",
    "    friends.remove(\"Gina\")\n",
    "print(friends)\n",
    "\n",
    "friends = [\"Gina\", \"Kimberly\", \"Naoto\", \"Gina\"]\n",
    "for friend in friends:\n",
    "    if friend == \"Gina\":\n",
    "        friends.remove(\"Gina\")\n",
    "print(friends)"
   ]
  },
  {
   "cell_type": "markdown",
   "metadata": {
    "id": "BNF4_UANwkA2"
   },
   "source": [
    "### List Exercise <br>\n",
    "<p>Remove all duplicates<br><b>Extra: Create a program that will remove any duplicates from a given list</b></p>"
   ]
  },
  {
   "cell_type": "code",
   "execution_count": 69,
   "metadata": {
    "id": "Y40Au00twkA2"
   },
   "outputs": [
    {
     "name": "stdout",
     "output_type": "stream",
     "text": [
      "['connor', 'bob', 'evan', 'max', 2, 3, 4, 'kevin']\n"
     ]
    }
   ],
   "source": [
    "names = ['connor', 'connor', 'bob', 'connor', 'evan', 'max', 'evan', 2, 2, 2, 3, 3, 4, 'bob', 'kevin']\n",
    "# Hint 1: You will need an append\n",
    "# Hint 2: Using an empty list will make life easier\n",
    "new_names = []\n",
    "for name in names:\n",
    "    if name not in new_names:\n",
    "        new_names.append(name)\n",
    "    else:\n",
    "        continue\n",
    "print(new_names)\n",
    "\n"
   ]
  },
  {
   "cell_type": "markdown",
   "metadata": {
    "id": "zyOTDRS0wkA3"
   },
   "source": [
    "### List Comprehensions <br>\n",
    "<p>Creating a quickly generated list to work with<br>*result*  = [*transform*    *iteration*         *filter*     ]</p>"
   ]
  },
  {
   "cell_type": "markdown",
   "metadata": {
    "id": "_rNgeQiOwkA4"
   },
   "source": [
    "##### In a list comprehension we have a few pieces:\n",
    "1. The first is the counter/ variable - IN this the variable is x\n",
    "2. then we have a transform for the variable\n",
    "3. The finale part of a list comp is called the condition\n",
    "\n",
    "```python\n",
    "    [variable, transform, condition]\n",
    "```"
   ]
  },
  {
   "cell_type": "code",
   "execution_count": 72,
   "metadata": {
    "id": "JkO1KDUcwkA4"
   },
   "outputs": [
    {
     "name": "stdout",
     "output_type": "stream",
     "text": [
      "[0, 1, 2, 3, 4, 5, 6, 7, 8, 9, 10, 11, 12, 13, 14, 15, 16, 17, 18, 19, 20, 21, 22, 23, 24, 25, 26, 27, 28, 29, 30, 31, 32, 33, 34, 35, 36, 37, 38, 39, 40, 41, 42, 43, 44, 45, 46, 47, 48, 49, 50, 51, 52, 53, 54, 55, 56, 57, 58, 59, 60, 61, 62, 63, 64, 65, 66, 67, 68, 69, 70, 71, 72, 73, 74, 75, 76, 77, 78, 79, 80, 81, 82, 83, 84, 85, 86, 87, 88, 89, 90, 91, 92, 93, 94, 95, 96, 97, 98, 99]\n",
      "[0, 2, 4, 6, 8, 10, 12, 14, 16, 18, 20, 22, 24, 26, 28, 30, 32, 34, 36, 38, 40, 42, 44, 46, 48, 50, 52, 54, 56, 58, 60, 62, 64, 66, 68, 70, 72, 74, 76, 78, 80, 82, 84, 86, 88, 90, 92, 94, 96, 98, 100, 102, 104, 106, 108, 110, 112, 114, 116, 118, 120, 122, 124, 126, 128, 130, 132, 134, 136, 138, 140, 142, 144, 146, 148, 150, 152, 154, 156, 158, 160, 162, 164, 166, 168, 170, 172, 174, 176, 178, 180, 182, 184, 186, 188, 190, 192, 194, 196, 198]\n"
     ]
    }
   ],
   "source": [
    "# number comprehension\n",
    "\n",
    "# With a regular for loop\n",
    "# this method is memory heavy\n",
    "# the list is resized every time something ia added to it\n",
    "nums = []\n",
    "for x in range(100):\n",
    "    nums.append(x)\n",
    "print(nums)\n",
    "\n",
    "# IN a list comprehension we have a few pieces:\n",
    "# list comprehensions are more efficient with memory use\n",
    "# because it creates the space for the whole list first\n",
    "# then performs the calculations and populates the list\n",
    "# comprehensions can be hard to debug tho\n",
    "nums_comp = [x*2 for x in range(100)]\n",
    "print(nums_comp)\n",
    "\n",
    "# The first is the counter/ variable - IN this the variable is x\n",
    "# Then we have a transform for the variable \n",
    "# The finale part of a list comp is called the condition\n",
    "#[variable, transform, condition]\n",
    "\n",
    "\n",
    "\n"
   ]
  },
  {
   "cell_type": "markdown",
   "metadata": {
    "id": "5-3709JmwkA5"
   },
   "source": [
    "There are a few benefits to using List comprehensions. The most obvious would be that we now have shorter code to work with instead of using 3+ lines of code in the for loop variant.\n",
    "\n",
    "Another is an added benefit to memory usage. Since the list's memory is allocated first before adding elements to it, we don't have to resize the list once we add elements to it.\n",
    "\n",
    "Lastly, list comprehensions are considered the \"pythonic\" way to write code by the PEP8 standards (Python Style Guide)"
   ]
  },
  {
   "cell_type": "code",
   "execution_count": 76,
   "metadata": {
    "id": "BsR79CoOwkA5"
   },
   "outputs": [
    {
     "name": "stdout",
     "output_type": "stream",
     "text": [
      "[0, 1, 4, 9, 16, 25, 36, 49, 64, 81]\n",
      "[0, 1, 4, 9, 16, 25, 36, 49, 64, 81]\n"
     ]
    }
   ],
   "source": [
    "# square number comprehension\n",
    "squares = [x**2 for x in range(10)]\n",
    "print(squares)\n",
    "\n",
    "squares_for = []\n",
    "for x in range(10):\n",
    "    squares_for.append(x**2)\n",
    "print(squares_for)"
   ]
  },
  {
   "cell_type": "code",
   "execution_count": 95,
   "metadata": {
    "id": "lsdkyk5DwkA5"
   },
   "outputs": [
    {
     "name": "stdout",
     "output_type": "stream",
     "text": [
      "['G', 'K', 'N', 'D', 'B']\n",
      "['G', 'K', 'N', 'D', 'B']\n",
      "['Kimberly Adami', 'Naoto Hasegawa', 'Demetria Calademos']\n",
      "['Kimberly Adami', 'Naoto Hasegawa', 'Demetria Calademos']\n",
      "['too short', 'Kimberly Adami', 'Naoto Hasegawa', 'Demetria Calademos', 'too short']\n"
     ]
    }
   ],
   "source": [
    "# string comprehension\n",
    "friends = [\"Gina Thomas\", \"Kimberly Adami\", \"Naoto Hasegawa\", \"Demetria Calademos\", \"Bill Hall\"]\n",
    "\n",
    "first_names = [friend[0] for friend in friends]\n",
    "print(first_names)\n",
    "    \n",
    "first_names_for = []\n",
    "for friend in friends:\n",
    "    first_names_for.append(friend[0])\n",
    "print(first_names_for)\n",
    "\n",
    "long_names = []\n",
    "for friend in friends:\n",
    "    if len(friend) >13:\n",
    "        long_names.append(friend)\n",
    "print(long_names)\n",
    "\n",
    "long_names_comp = [friend for friend in friends if len(friend) >13]\n",
    "print(long_names_comp)\n",
    "\n",
    "# if using more than one ifs, gotta chnage order of things\n",
    "long_names_comp2 = [friend if len(friend) >13 else \"too short\" for friend in friends]\n",
    "print(long_names_comp2)"
   ]
  },
  {
   "cell_type": "code",
   "execution_count": null,
   "metadata": {
    "id": "ObJlv8jxwkA6"
   },
   "outputs": [],
   "source": []
  },
  {
   "cell_type": "code",
   "execution_count": null,
   "metadata": {
    "id": "ojod6xMvwkA6"
   },
   "outputs": [],
   "source": []
  },
  {
   "cell_type": "markdown",
   "metadata": {
    "id": "ODDnjyJ8wkA7"
   },
   "source": [
    "### Tuples <br>\n",
    "<p><b>Defined as an immutable list</b></p><br>Seperated by commas using parenthesis"
   ]
  },
  {
   "cell_type": "code",
   "execution_count": 104,
   "metadata": {
    "id": "rwquBKkfwkA8"
   },
   "outputs": [
    {
     "name": "stdout",
     "output_type": "stream",
     "text": [
      "<class 'tuple'>\n",
      "<class 'tuple'>\n",
      "<class 'int'>\n",
      "1\n",
      "1\n",
      "2\n",
      "3\n"
     ]
    }
   ],
   "source": [
    "# an 'inmutable list' You can't change it (\"item\", \"item\", \"item\")\n",
    "\n",
    "# one way to create a tuple\n",
    "tupe1 = (1, 2, 3)\n",
    "print(type(tupe1))\n",
    "\n",
    "# another way\n",
    "tupe1 = 1, 2, 3\n",
    "print(type(tupe1))\n",
    "# but just one item is an int or str or whatever\n",
    "tupe2 = 2\n",
    "print(type(2))\n",
    "\n",
    "\n",
    "# when you have a list and you know you don't want antying to change in the list\n",
    "# you can index tuples\n",
    "print(tupe1[0])\n",
    "\n",
    "# you can iterate thru tuples as you would a list\n",
    "for num in range(len(tupe1)):\n",
    "    print(tupe1[num])"
   ]
  },
  {
   "cell_type": "markdown",
   "metadata": {
    "id": "-5oldmgQwkA8"
   },
   "source": [
    "##### sorted()"
   ]
  },
  {
   "cell_type": "code",
   "execution_count": 115,
   "metadata": {
    "id": "XNeGN4MewkA8"
   },
   "outputs": [
    {
     "name": "stdout",
     "output_type": "stream",
     "text": [
      "[11, 22, 43]\n",
      "<class 'list'>\n",
      "<class 'tuple'>\n",
      "1\n",
      "3\n"
     ]
    }
   ],
   "source": [
    "tupe3  = (11, 22, 43)\n",
    "# .sort doesn't work because .sort is only for lists\n",
    "# tupe3.sort()\n",
    "tupe3 = sorted(tupe3)\n",
    "#the act of using sorted() turns it from a tuple to a list\n",
    "print(tupe3)\n",
    "print(type(tupe3))\n",
    "# but you can change it back into a tuple \n",
    "tupe3 = tuple(tupe3)\n",
    "print(type(tupe3))\n",
    "\n",
    "# you can swap tuple variables\n",
    "x, y, z = 1, 2, 3\n",
    "print(x)\n",
    "x, y , z = z , y , x\n",
    "print(x)"
   ]
  },
  {
   "cell_type": "markdown",
   "metadata": {
    "id": "UgrSvRElwkA9"
   },
   "source": [
    "##### Adding values to a Tuple"
   ]
  },
  {
   "cell_type": "code",
   "execution_count": 107,
   "metadata": {
    "id": "drYbDr38wkA9"
   },
   "outputs": [
    {
     "name": "stdout",
     "output_type": "stream",
     "text": [
      "(1, 2, 3, 5)\n",
      "(1, 2, 3)\n"
     ]
    }
   ],
   "source": [
    "tupe1 = 1, 2, 3\n",
    "print(tupe1 + (5,))\n",
    "print(tupe1)\n"
   ]
  },
  {
   "cell_type": "markdown",
   "metadata": {
    "id": "pTEe3s1pwkA-"
   },
   "source": [
    "## Functions"
   ]
  },
  {
   "cell_type": "markdown",
   "metadata": {
    "id": "g6x2mKx7wkA-"
   },
   "source": [
    "##### User-Defined vs. Built-In Functions"
   ]
  },
  {
   "cell_type": "code",
   "execution_count": 145,
   "metadata": {
    "id": "EKWozTaxwkA-"
   },
   "outputs": [
    {
     "name": "stdout",
     "output_type": "stream",
     "text": [
      "Hello Jessica\n",
      "Hello Jessica\n"
     ]
    }
   ],
   "source": [
    "# a function that is defined by the user\n",
    "# syntax: def function_name(parameter)\n",
    "def say_hello(name):\n",
    "    return(\"Hello \" +name)\n",
    "\n",
    "# this runs the function but doesn't print anything\n",
    "say_hello(\"Jessica\")\n",
    "# this prints the returned value in the function\n",
    "print(say_hello(\"Jessica\"))\n",
    "# this sets a variable equal to the returned value\n",
    "x = say_hello(\"Jessica\")\n",
    "# this prints the variable x\n",
    "print(x)\n",
    "\n",
    "# if you're getting \"none\" its probably because\n",
    "# your function isn't actually returning a value\n",
    "# just printing a value \n",
    "\n"
   ]
  },
  {
   "cell_type": "markdown",
   "metadata": {
    "id": "zVQgX-VuwkA_"
   },
   "source": [
    "##### Accepting Parameters"
   ]
  },
  {
   "cell_type": "code",
   "execution_count": null,
   "metadata": {
    "id": "8_A-Y67twkA_"
   },
   "outputs": [],
   "source": []
  },
  {
   "cell_type": "markdown",
   "metadata": {
    "id": "jaOnp0OowkA_"
   },
   "source": [
    "##### Default Parameters"
   ]
  },
  {
   "cell_type": "code",
   "execution_count": 161,
   "metadata": {
    "id": "BNjFIVTowkBA"
   },
   "outputs": [
    {
     "name": "stdout",
     "output_type": "stream",
     "text": [
      "The name's Bond... James Bond\n",
      "The name's Rinks... Jessica Rinks\n"
     ]
    }
   ],
   "source": [
    "# default parameters need to be after all positional parameters\n",
    "def agent_name(firstname, lastname=\"Bond\"):\n",
    "    return f\"The name's {lastname}... {firstname} {lastname}\"\n",
    "\n",
    "# if you call a function without printing it will show you\n",
    "# the returned value of the last function call\n",
    "# this is specific to jupyter notebook\n",
    "# VSCode won't display anything if you only return\n",
    "# its going to display in the \"out\" section and will be a string\n",
    "agent_name(\"James\")\n",
    "agent_name(\"Jessica\", \"Rinks\")\n",
    "\n",
    "# print will actually print the text to the terminal\n",
    "print(agent_name(\"James\"))\n",
    "print(agent_name(\"Jessica\", \"Rinks\"))"
   ]
  },
  {
   "cell_type": "markdown",
   "metadata": {
    "id": "NiYNG5DAwkBA"
   },
   "source": [
    "##### Making an Argument Optional"
   ]
  },
  {
   "cell_type": "code",
   "execution_count": null,
   "metadata": {
    "id": "U0iW7p0RwkBA"
   },
   "outputs": [],
   "source": []
  },
  {
   "cell_type": "markdown",
   "metadata": {
    "id": "RHdUCo-GwkBB"
   },
   "source": [
    "##### Keyword Arguments"
   ]
  },
  {
   "cell_type": "code",
   "execution_count": 164,
   "metadata": {
    "id": "rPfMyaw4wkBB"
   },
   "outputs": [
    {
     "ename": "SyntaxError",
     "evalue": "invalid syntax (<ipython-input-164-8f3584e2edcb>, line 2)",
     "output_type": "error",
     "traceback": [
      "\u001b[1;36m  File \u001b[1;32m\"<ipython-input-164-8f3584e2edcb>\"\u001b[1;36m, line \u001b[1;32m2\u001b[0m\n\u001b[1;33m    def print_super_hero(name, power=\"flying\")\u001b[0m\n\u001b[1;37m                                              ^\u001b[0m\n\u001b[1;31mSyntaxError\u001b[0m\u001b[1;31m:\u001b[0m invalid syntax\n"
     ]
    }
   ],
   "source": [
    "# # last_name='Max', first_name='Smith' in the function call\n",
    "# def print_super_hero(name, power=\"flying\")\n",
    "#     return f\"{name} and superpower is {power}\"\n",
    "\n",
    "# print_super_hero(\"Vision\")\n",
    "# see above"
   ]
  },
  {
   "cell_type": "markdown",
   "metadata": {
    "id": "gezoO7_XwkBB"
   },
   "source": [
    "# Creating a start, stop, step function"
   ]
  },
  {
   "cell_type": "code",
   "execution_count": 165,
   "metadata": {
    "id": "vBxjKDxQwkBB"
   },
   "outputs": [
    {
     "name": "stdout",
     "output_type": "stream",
     "text": [
      "3\n",
      "5\n",
      "7\n",
      "9\n"
     ]
    }
   ],
   "source": [
    "\n",
    "def my_range(stop, start=0, step=1):\n",
    "    for i in range(start, stop, step):\n",
    "        print(i)\n",
    "\n",
    "my_range(10,3,2)"
   ]
  },
  {
   "cell_type": "markdown",
   "metadata": {
    "id": "oXUni7JlwkBB"
   },
   "source": [
    "##### Returning Values"
   ]
  },
  {
   "cell_type": "code",
   "execution_count": 171,
   "metadata": {
    "id": "fQqzir5NwkBD"
   },
   "outputs": [
    {
     "ename": "TypeError",
     "evalue": "append() takes exactly one argument (2 given)",
     "output_type": "error",
     "traceback": [
      "\u001b[1;31m---------------------------------------------------------------------------\u001b[0m",
      "\u001b[1;31mTypeError\u001b[0m                                 Traceback (most recent call last)",
      "\u001b[1;32m<ipython-input-171-b7f721738c07>\u001b[0m in \u001b[0;36m<module>\u001b[1;34m\u001b[0m\n\u001b[0;32m      7\u001b[0m     \u001b[0mprint\u001b[0m\u001b[1;33m(\u001b[0m\u001b[0mclean_names_list\u001b[0m\u001b[1;33m)\u001b[0m\u001b[1;33m\u001b[0m\u001b[1;33m\u001b[0m\u001b[0m\n\u001b[0;32m      8\u001b[0m \u001b[1;33m\u001b[0m\u001b[0m\n\u001b[1;32m----> 9\u001b[1;33m \u001b[0mclean_names_list\u001b[0m\u001b[1;33m(\u001b[0m\u001b[0mfriends\u001b[0m\u001b[1;33m)\u001b[0m\u001b[1;33m\u001b[0m\u001b[1;33m\u001b[0m\u001b[0m\n\u001b[0m\u001b[0;32m     10\u001b[0m \u001b[1;33m\u001b[0m\u001b[0m\n\u001b[0;32m     11\u001b[0m \u001b[1;33m\u001b[0m\u001b[0m\n",
      "\u001b[1;32m<ipython-input-171-b7f721738c07>\u001b[0m in \u001b[0;36mclean_names_list\u001b[1;34m(friends)\u001b[0m\n\u001b[0;32m      4\u001b[0m     \u001b[0mclean_names_list\u001b[0m \u001b[1;33m=\u001b[0m \u001b[1;33m[\u001b[0m\u001b[1;33m]\u001b[0m\u001b[1;33m\u001b[0m\u001b[1;33m\u001b[0m\u001b[0m\n\u001b[0;32m      5\u001b[0m     \u001b[1;32mfor\u001b[0m \u001b[0mfriend\u001b[0m \u001b[1;32min\u001b[0m \u001b[0mfriends\u001b[0m\u001b[1;33m:\u001b[0m\u001b[1;33m\u001b[0m\u001b[1;33m\u001b[0m\u001b[0m\n\u001b[1;32m----> 6\u001b[1;33m         \u001b[0mclean_names_list\u001b[0m\u001b[1;33m.\u001b[0m\u001b[0mappend\u001b[0m\u001b[1;33m(\u001b[0m\u001b[0mfriend\u001b[0m\u001b[1;33m.\u001b[0m\u001b[0mstrip\u001b[0m\u001b[1;33m(\u001b[0m\u001b[1;33m)\u001b[0m\u001b[1;33m,\u001b[0m \u001b[0mfriend\u001b[0m\u001b[1;33m.\u001b[0m\u001b[0mtitle\u001b[0m\u001b[1;33m(\u001b[0m\u001b[1;33m)\u001b[0m\u001b[1;33m)\u001b[0m\u001b[1;33m\u001b[0m\u001b[1;33m\u001b[0m\u001b[0m\n\u001b[0m\u001b[0;32m      7\u001b[0m     \u001b[0mprint\u001b[0m\u001b[1;33m(\u001b[0m\u001b[0mclean_names_list\u001b[0m\u001b[1;33m)\u001b[0m\u001b[1;33m\u001b[0m\u001b[1;33m\u001b[0m\u001b[0m\n\u001b[0;32m      8\u001b[0m \u001b[1;33m\u001b[0m\u001b[0m\n",
      "\u001b[1;31mTypeError\u001b[0m: append() takes exactly one argument (2 given)"
     ]
    }
   ],
   "source": [
    "# returning values i what we do most of the time\n",
    "friends = [\"Gina \", \" Kimberly \", \"Naoto \", \"Demetria \", \"   Hall\"]\n",
    "def clean_names_list(friends):\n",
    "    clean_names_list = []\n",
    "    for friend in friends:\n",
    "        clean_names_list.append(friend.strip(), friend.title())\n",
    "    print(clean_names_list)\n",
    "\n",
    "clean_names_list(friends)\n",
    "\n",
    "    "
   ]
  },
  {
   "cell_type": "markdown",
   "metadata": {
    "id": "CZdSju8rwkBD"
   },
   "source": [
    "##### *args"
   ]
  },
  {
   "cell_type": "code",
   "execution_count": 178,
   "metadata": {
    "id": "HrF8NeTJwkBD",
    "scrolled": true
   },
   "outputs": [
    {
     "ename": "IndentationError",
     "evalue": "expected an indented block (<ipython-input-178-a748c5c7fc35>, line 5)",
     "output_type": "error",
     "traceback": [
      "\u001b[1;36m  File \u001b[1;32m\"<ipython-input-178-a748c5c7fc35>\"\u001b[1;36m, line \u001b[1;32m5\u001b[0m\n\u001b[1;33m    '''this explains what the function does'''\u001b[0m\n\u001b[1;37m    ^\u001b[0m\n\u001b[1;31mIndentationError\u001b[0m\u001b[1;31m:\u001b[0m expected an indented block\n"
     ]
    }
   ],
   "source": [
    "# args = arguments, takes any number of arguments\n",
    "# kwards = keywords, toakes any number of keywords\n",
    "\n",
    "def print_args(num1, *args, **kwargs):\n",
    "    # it must be indented!!!!\n",
    "    '''this explains what the function does'''\n",
    "    print(num1)\n",
    "# args are defined by the *\n",
    "# kwargs are defined with **\n",
    "# args come out as class tuple\n",
    "# kwargs come out in class dict\n",
    "    print(args)\n",
    "    print(type(args))\n",
    "    print(kwargs)\n",
    "    print(type(kwargs))\n",
    "    \n",
    "print_args(14, \"Chocolate\", \"Vanilla\", name=\"Jessica\", city=\"Chicago\")"
   ]
  },
  {
   "cell_type": "markdown",
   "metadata": {
    "id": "us4jdPivwkBE"
   },
   "source": [
    "##### Docstring"
   ]
  },
  {
   "cell_type": "code",
   "execution_count": 183,
   "metadata": {
    "id": "NJ5qMiskwkBE"
   },
   "outputs": [
    {
     "name": "stdout",
     "output_type": "stream",
     "text": [
      "Help on function print_args in module __main__:\n",
      "\n",
      "print_args(num1, *args, **kwargs)\n",
      "    num1 is expecting an int\n",
      "    *args will accept arguments\n",
      "    *kwargs will accept keyword arguments\n",
      "\n"
     ]
    }
   ],
   "source": [
    "def print_args(num1, *args, **kwargs):\n",
    "    # it must be indented!!!!\n",
    "    '''num1 is expecting an int\n",
    "    *args will accept arguments\n",
    "    *kwargs will accept keyword arguments'''\n",
    "    print(num1)\n",
    "help(print_args)"
   ]
  },
  {
   "cell_type": "markdown",
   "metadata": {
    "id": "wgiZ6suQwkBF"
   },
   "source": [
    "##### Using a User Function in a Loop"
   ]
  },
  {
   "cell_type": "code",
   "execution_count": 187,
   "metadata": {
    "id": "21rfJSIqwkBF"
   },
   "outputs": [
    {
     "name": "stdout",
     "output_type": "stream",
     "text": [
      "what do you need to do, type 'done' if finishedclean\n",
      "add to todo list\n",
      "what do you need to do, type 'done' if finishedwalk the dog\n",
      "add to todo list\n",
      "what do you need to do, type 'done' if finisheddone\n"
     ]
    },
    {
     "data": {
      "text/plain": [
       "['clean', 'walk the dog']"
      ]
     },
     "execution_count": 187,
     "metadata": {},
     "output_type": "execute_result"
    }
   ],
   "source": [
    "def todo_list():\n",
    "    my_todos = []\n",
    "    while True:\n",
    "        ask = input(\"what do you need to do, type 'done' if finished\")\n",
    "        if ask == \"done\":\n",
    "            return my_todos\n",
    "        my_todos.append(ask)\n",
    "        print(\"add to todo list\")\n",
    "\n",
    "todo_list()"
   ]
  },
  {
   "cell_type": "markdown",
   "metadata": {
    "id": "uZJh25FLwkBF"
   },
   "source": [
    "## Function Exercise <br>\n",
    "<p>Write a function that loops through a list of first_names and a list of last_names, combines the two and return a list of full_names</p>"
   ]
  },
  {
   "cell_type": "code",
   "execution_count": 200,
   "metadata": {
    "id": "UOWu3hjbwkBG"
   },
   "outputs": [
    {
     "data": {
      "text/plain": [
       "['John Smith', 'Evan Smith', 'Jordan Williams', 'Max Bell']"
      ]
     },
     "execution_count": 200,
     "metadata": {},
     "output_type": "execute_result"
    }
   ],
   "source": [
    "# assume list of names is equal in length\n",
    "first_name = ['John', 'Evan', 'Jordan', 'Max']\n",
    "last_name = ['Smith', 'Smith', 'Williams', 'Bell']\n",
    "# Output: ['John Smith', 'Evan Smith', 'Jordan Williams', 'Max Bell']\n",
    "\n",
    "def fullnames(first_name, last_name):\n",
    "    fullnames_list = []\n",
    "    for i in range(len(first_name)):\n",
    "        fullnames_list.append(f\"{first_name[i]} {last_name[i]}\")\n",
    "    return fullnames_list\n",
    " \n",
    "fullnames(first_name, last_name)\n",
    "    \n",
    "#     for i in range(len(first_name))\n",
    "#     for fname in first_name:\n",
    "#         fname = fname\n",
    "#     for lname in last_name:\n",
    "#         lname = lname       \n",
    "#     fullnames_list.append(fname +\" \"+ lname)\n",
    "\n",
    "#     return fullnames_list\n",
    "\n",
    "# fullnames(first_name, last_name)\n"
   ]
  },
  {
   "cell_type": "markdown",
   "metadata": {
    "id": "PUwLW_DQwkBG"
   },
   "source": [
    "## Scope <br>\n",
    "<p>Scope refers to the ability to access variables, different types of scope include:<br>a) Global<br>b) Function (local)<br>c) Class (local)</p>"
   ]
  },
  {
   "cell_type": "code",
   "execution_count": null,
   "metadata": {
    "id": "InvHJV-5wkBG"
   },
   "outputs": [],
   "source": []
  },
  {
   "cell_type": "markdown",
   "metadata": {
    "id": "p00ngU0UwkBH"
   },
   "source": [
    "# Exercises"
   ]
  },
  {
   "cell_type": "markdown",
   "metadata": {
    "id": "SVExIpgmwkBH"
   },
   "source": [
    "## Exercise 1 <br>\n",
    "<p>Given a list as a parameter,write a function that returns a list of numbers that are less than ten</b></i></p><br>\n",
    "<p> For example: Say your input parameter to the function is [1,11,14,5,8,9]...Your output should [1,5,8,9]</p>"
   ]
  },
  {
   "cell_type": "code",
   "execution_count": 6,
   "metadata": {
    "id": "B1lULtyWwkBH"
   },
   "outputs": [
    {
     "name": "stdout",
     "output_type": "stream",
     "text": [
      "[1, 5, 8, 9]\n"
     ]
    }
   ],
   "source": [
    "# Use the following list - [1,11,14,5,8,9]\n",
    "\n",
    "l_1 = [1,11,14,5,8,9]\n",
    "\n",
    "def below_10(list):\n",
    "    '''takes a list and returs new list with new list only containing numbers less than 10'''\n",
    "    # define empty new list\n",
    "    new_list = []\n",
    "    # iterate thru each item in the argument list\n",
    "    for l in list:\n",
    "        if l < 10:\n",
    "            new_list.append(l)\n",
    "    print(new_list)\n",
    "    \n",
    " \n",
    "below_10(l_1)"
   ]
  },
  {
   "cell_type": "markdown",
   "metadata": {
    "id": "YsJLrAdlwkBI"
   },
   "source": [
    "## Exercise 2 <br>\n",
    "<p>Write a function that takes in two lists and returns the two lists merged together and sorted<br>\n",
    "<b><i>Hint: You can use the .sort() method</i></b></p>"
   ]
  },
  {
   "cell_type": "code",
   "execution_count": 44,
   "metadata": {
    "id": "lRIj_YaSwkBI"
   },
   "outputs": [
    {
     "data": {
      "text/plain": [
       "[1, 2, 3, 3, 4, 4, 5, 5, 6, 6, 7, 8, 10]"
      ]
     },
     "execution_count": 44,
     "metadata": {},
     "output_type": "execute_result"
    }
   ],
   "source": [
    "l_1 = [1,2,3,4,5,6]\n",
    "l_2 = [3,4,5,6,7,8,10]\n",
    "\n",
    "def merged_and_sorted(l_1, l_2):\n",
    "    l_3 = l_1 + l_2\n",
    "    l_3.sort()\n",
    "    return(l_3)\n",
    "    \n",
    "merged_and_sorted(l_1, l_2)\n",
    "\n",
    "\n"
   ]
  },
  {
   "cell_type": "code",
   "execution_count": null,
   "metadata": {},
   "outputs": [],
   "source": []
  }
 ],
 "metadata": {
  "colab": {
   "name": "Tuesday_Lesson_Inclass_Lecture.ipynb",
   "provenance": []
  },
  "kernelspec": {
   "display_name": "Python 3",
   "language": "python",
   "name": "python3"
  },
  "language_info": {
   "codemirror_mode": {
    "name": "ipython",
    "version": 3
   },
   "file_extension": ".py",
   "mimetype": "text/x-python",
   "name": "python",
   "nbconvert_exporter": "python",
   "pygments_lexer": "ipython3",
   "version": "3.8.3"
  }
 },
 "nbformat": 4,
 "nbformat_minor": 1
}
