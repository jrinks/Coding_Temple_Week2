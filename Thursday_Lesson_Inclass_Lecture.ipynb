{
 "cells": [
  {
   "cell_type": "markdown",
   "metadata": {
    "id": "cqqlufrq8hmF"
   },
   "source": [
    "# Object-Oriented-Programming (OOP)"
   ]
  },
  {
   "cell_type": "markdown",
   "metadata": {
    "id": "1-tZ-LD-8hmP"
   },
   "source": [
    "## Tasks Today:\n",
    "\n",
    "   \n",
    "\n",
    "1) <b>Creating a Class (Initializing/Declaring)</b> <br>\n",
    "2) <b>Using a Class (Instantiating)</b> <br>\n",
    " &nbsp;&nbsp;&nbsp;&nbsp; a) Creating One Instance <br>\n",
    " &nbsp;&nbsp;&nbsp;&nbsp; b) Creating Multiple Instances <br>\n",
    " &nbsp;&nbsp;&nbsp;&nbsp; c) In-Class Exercise #1 - Create a Class 'Car' and instantiate three different makes of cars <br>\n",
    "3) <b>The \\__init\\__() Method</b> <br>\n",
    " &nbsp;&nbsp;&nbsp;&nbsp; a) The 'self' Attribute <br>\n",
    "4) <b>Class Attributes</b> <br>\n",
    " &nbsp;&nbsp;&nbsp;&nbsp; a) Initializing Attributes <br>\n",
    " &nbsp;&nbsp;&nbsp;&nbsp; b) Setting an Attribute Outside of the \\__init\\__() Method <br>\n",
    " &nbsp;&nbsp;&nbsp;&nbsp; c) Setting Defaults for Attributes <br>\n",
    " &nbsp;&nbsp;&nbsp;&nbsp; d) Accessing Class Attributes <br>\n",
    " &nbsp;&nbsp;&nbsp;&nbsp; e) Changing Class Attributes <br>\n",
    " &nbsp;&nbsp;&nbsp;&nbsp; f) In-Class Exercise #2 - Add a color and wheels attribute to your 'Car' class <br>\n",
    "5) <b>Class Methods</b> <br>\n",
    " &nbsp;&nbsp;&nbsp;&nbsp; a) Creating <br>\n",
    " &nbsp;&nbsp;&nbsp;&nbsp; b) Calling <br>\n",
    " &nbsp;&nbsp;&nbsp;&nbsp; c) Modifying an Attribute's Value Through a Method <br>\n",
    " &nbsp;&nbsp;&nbsp;&nbsp; d) Incrementing an Attribute's Value Through a Method <br>\n",
    " &nbsp;&nbsp;&nbsp;&nbsp; e) In-Class Exercise #3 - Add a method that prints the cars color and wheel number, then call them <br>\n",
    "6) <b>Inheritance</b> <br>\n",
    " &nbsp;&nbsp;&nbsp;&nbsp; a) Syntax for Inheriting from a Parent Class <br>\n",
    " &nbsp;&nbsp;&nbsp;&nbsp; b) The \\__init\\__() Method for a Child Class (super()) <br>\n",
    " &nbsp;&nbsp;&nbsp;&nbsp; c) Defining Attributes and Methods for the Child Class <br>\n",
    " &nbsp;&nbsp;&nbsp;&nbsp; d) Method Overriding <br>\n",
    " &nbsp;&nbsp;&nbsp;&nbsp; e) In-Class Exercise #4 - Create a class 'Ford' that inherits from 'Car' class and initialize it as a Blue Ford Explorer with 4 wheels using the super() method <br>\n",
    "7) <b>Classes as Attributes</b> <br>\n",
    "8) <b>Exercises</b> <br>\n",
    " &nbsp;&nbsp;&nbsp;&nbsp; a) Exercise #1 - Turn the shopping cart program from yesterday into an object-oriented program <br>"
   ]
  },
  {
   "cell_type": "code",
   "execution_count": 17,
   "metadata": {
    "id": "JEL9vnUg8hmR"
   },
   "outputs": [
    {
     "name": "stdout",
     "output_type": "stream",
     "text": [
      "what is your birth month number?1\n"
     ]
    },
    {
     "data": {
      "text/plain": [
       "'Garnet'"
      ]
     },
     "execution_count": 17,
     "metadata": {},
     "output_type": "execute_result"
    }
   ],
   "source": [
    "# # today's white board problem:\n",
    "\n",
    "# #Write a function that prompts the user for their birth month and return there birthstone.\n",
    "# #If they input an invalid month tell them to try again\n",
    "# stones={\n",
    "#     1:\"Garnet\",\n",
    "#     2:\"Amethyst\",\n",
    "#     3:\"Aquamarine\",\n",
    "#     4:\"Diamond\",\n",
    "#     5:\"Emerald\",\n",
    "#     6:\"Pearl\",\n",
    "#     7:\"Ruby\",\n",
    "#     8:\"Peridot\",\n",
    "#     9:\"Sapphire\",\n",
    "#     10:\"Opal\",\n",
    "#     11:\"Topaz\",\n",
    "#     12:\"Turquoise\"\n",
    "# }\n",
    "\n",
    "def birth_stone():\n",
    "    stones={\n",
    "        1:\"Garnet\",\n",
    "        2:\"Amethyst\",\n",
    "        3:\"Aquamarine\",\n",
    "        4:\"Diamond\",\n",
    "        5:\"Emerald\",\n",
    "        6:\"Pearl\",\n",
    "        7:\"Ruby\",\n",
    "        8:\"Peridot\",\n",
    "        9:\"Sapphire\",\n",
    "        10:\"Opal\",\n",
    "        11:\"Topaz\",\n",
    "        12:\"Turquoise\"\n",
    "    }\n",
    "    while True:\n",
    "        month_num = int(input(\"what is your birth month number?\"))\n",
    "        if month_num in stones.keys():\n",
    "            return stones[month_num]\n",
    "            # return breaks\n",
    "        elif month_num not in stones.key():\n",
    "            print(\"please enter a valid number between 1 and 12\")\n",
    "    \n",
    "birth_stone()\n",
    "    "
   ]
  },
  {
   "cell_type": "code",
   "execution_count": null,
   "metadata": {
    "id": "IwyISHVk8hmS"
   },
   "outputs": [],
   "source": [
    "# Circumfrance of a cirle\n"
   ]
  },
  {
   "cell_type": "markdown",
   "metadata": {
    "id": "TYDSBmP08hmT"
   },
   "source": [
    "## Creating a Class (Initializing/Declaring)\n",
    "<p>When creating a class, function, or even a variable you are initializing that object. Initializing and Declaring occur at the same time in Python, whereas in lower level languages you have to declare an object before initializing it. This is the first step in the process of using a class.</p>"
   ]
  },
  {
   "cell_type": "code",
   "execution_count": 180,
   "metadata": {
    "id": "WujS0Kfb8hmU"
   },
   "outputs": [
    {
     "name": "stdout",
     "output_type": "stream",
     "text": [
      "{'__module__': '__main__', '__dict__': <attribute '__dict__' of 'Car' objects>, '__weakref__': <attribute '__weakref__' of 'Car' objects>, '__doc__': None}\n",
      "Help on class Car in module __main__:\n",
      "\n",
      "class Car(builtins.object)\n",
      " |  Data descriptors defined here:\n",
      " |  \n",
      " |  __dict__\n",
      " |      dictionary for instance variables (if defined)\n",
      " |  \n",
      " |  __weakref__\n",
      " |      list of weak references to the object (if defined)\n",
      "\n"
     ]
    }
   ],
   "source": [
    "# name your class with uppercase letterss\n",
    "class Car():\n",
    "    pass\n",
    "\n",
    "print(Car.__dict__)\n",
    "\n",
    "help(Car)\n",
    "# an empty class inherits from a built in object\n",
    "# check to see if a class exists at all using: isinstance(Car, type)"
   ]
  },
  {
   "cell_type": "markdown",
   "metadata": {
    "id": "SaB0jZ6I8hmW"
   },
   "source": [
    "## Using a Class (Instantiating)\n",
    "<p>The process of creating a class is called <i>Instantiating</i>. Each time you create a variable of that type of class, it is referred to as an <i>Instance</i> of that class. This is the second step in the process of using a class.</p>"
   ]
  },
  {
   "cell_type": "markdown",
   "metadata": {
    "id": "fld2drDf8hmW"
   },
   "source": [
    "##### Creating One Instance"
   ]
  },
  {
   "cell_type": "code",
   "execution_count": 6,
   "metadata": {
    "id": "_3jc3Yiv8hmX"
   },
   "outputs": [
    {
     "name": "stdout",
     "output_type": "stream",
     "text": [
      "[5, 6, 7, 8, 0]\n"
     ]
    }
   ],
   "source": [
    "# instantiating means to create an instance of a class\n",
    "a_list = [1, 2, 3, 4]\n",
    "b_list = [5, 6, 7, 8]\n",
    "#these are instances of class list, aka: object, which is a built in class\n",
    "b_list.append(0)\n",
    "# b_list is an instance and .append is a method for class list\n",
    "print(b_list)\n"
   ]
  },
  {
   "cell_type": "markdown",
   "metadata": {
    "id": "Hyt7oJ_A8hmX"
   },
   "source": [
    "##### Creating Multiple Instances"
   ]
  },
  {
   "cell_type": "code",
   "execution_count": 11,
   "metadata": {
    "id": "eR8NGaGp8hmY"
   },
   "outputs": [
    {
     "ename": "SyntaxError",
     "evalue": "invalid syntax (<ipython-input-11-82d8479c8873>, line 15)",
     "output_type": "error",
     "traceback": [
      "\u001b[1;36m  File \u001b[1;32m\"<ipython-input-11-82d8479c8873>\"\u001b[1;36m, line \u001b[1;32m15\u001b[0m\n\u001b[1;33m    Try:\u001b[0m\n\u001b[1;37m        ^\u001b[0m\n\u001b[1;31mSyntaxError\u001b[0m\u001b[1;31m:\u001b[0m invalid syntax\n"
     ]
    }
   ],
   "source": [
    "class Car:\n",
    "    def __init__(self, color, model):\n",
    "        self.color = color\n",
    "        self.model = model\n",
    "ford = Car(\"blue\", \"Taho\")\n",
    "print(Car.__str__)\n",
    "print(ford)\n",
    "# we have created an object \"ford\" insdie class \"car\"\n",
    "chevy = Car(\"green\", \"Silerado\")\n",
    "honda = Car(\"red\", \"Accord\")\n",
    "toyota = Car(\"yellow\", \"Camri\")\n",
    "print(chevy)\n",
    "print(honda)\n",
    "print(toyota)\n",
    "Try:\n",
    "    if subaru.car() == True:\n",
    "    print(\"true\")\n",
    "Except: \n",
    "    print(\"there is no subaru\")\n",
    "# we have created four different objects of class car stored at different places"
   ]
  },
  {
   "cell_type": "code",
   "execution_count": 188,
   "metadata": {},
   "outputs": [
    {
     "ename": "TypeError",
     "evalue": "'Car' object is not iterable",
     "output_type": "error",
     "traceback": [
      "\u001b[1;31m---------------------------------------------------------------------------\u001b[0m",
      "\u001b[1;31mTypeError\u001b[0m                                 Traceback (most recent call last)",
      "\u001b[1;32m<ipython-input-188-60f9838e336f>\u001b[0m in \u001b[0;36m<module>\u001b[1;34m\u001b[0m\n\u001b[0;32m     10\u001b[0m \u001b[0mcar_list\u001b[0m \u001b[1;33m=\u001b[0m \u001b[1;33m[\u001b[0m\u001b[0mford\u001b[0m\u001b[1;33m,\u001b[0m \u001b[0mchevy\u001b[0m\u001b[1;33m,\u001b[0m \u001b[0mhonda\u001b[0m\u001b[1;33m,\u001b[0m \u001b[0mtoyota\u001b[0m\u001b[1;33m]\u001b[0m\u001b[1;33m\u001b[0m\u001b[1;33m\u001b[0m\u001b[0m\n\u001b[0;32m     11\u001b[0m \u001b[1;33m\u001b[0m\u001b[0m\n\u001b[1;32m---> 12\u001b[1;33m \u001b[1;32mfor\u001b[0m \u001b[0mcar\u001b[0m \u001b[1;32min\u001b[0m \u001b[0mlist\u001b[0m\u001b[1;33m(\u001b[0m\u001b[0mCar\u001b[0m\u001b[1;33m(\u001b[0m\u001b[1;33m)\u001b[0m\u001b[1;33m)\u001b[0m\u001b[1;33m:\u001b[0m\u001b[1;33m\u001b[0m\u001b[1;33m\u001b[0m\u001b[0m\n\u001b[0m\u001b[0;32m     13\u001b[0m     \u001b[0mprint\u001b[0m\u001b[1;33m(\u001b[0m\u001b[0mcar\u001b[0m\u001b[1;33m.\u001b[0m\u001b[0mcolor\u001b[0m\u001b[1;33m)\u001b[0m\u001b[1;33m\u001b[0m\u001b[1;33m\u001b[0m\u001b[0m\n\u001b[0;32m     14\u001b[0m     \u001b[0mprint\u001b[0m\u001b[1;33m(\u001b[0m\u001b[0mcar\u001b[0m\u001b[1;33m.\u001b[0m\u001b[0mmodel\u001b[0m\u001b[1;33m)\u001b[0m\u001b[1;33m\u001b[0m\u001b[1;33m\u001b[0m\u001b[0m\n",
      "\u001b[1;31mTypeError\u001b[0m: 'Car' object is not iterable"
     ]
    }
   ],
   "source": [
    "ford.color = \"blue\"\n",
    "chevy.color = \"orange\"\n",
    "\n",
    "\n",
    "honda.color = \"yellow\"\n",
    "toyota.color = \"pink\"\n",
    "# we will also assign an attribute model for ford, but ONLY for ford\n",
    "# not for the entire class\n",
    "ford.model = \"venza\"\n",
    "car_list = [ford, chevy, honda, toyota]\n",
    "\n",
    "for car in car_list:\n",
    "    print(car.color)\n",
    "    print(car.model)\n",
    "    # so if you try to print car.model it will error out once it\n",
    "    # gets to a instance that doesn't have that attribute"
   ]
  },
  {
   "cell_type": "markdown",
   "metadata": {
    "id": "-d-eq0js8hma"
   },
   "source": [
    "##### In-Class Exercise #1 - Create a Class 'Car' and Instantiate three different makes of cars"
   ]
  },
  {
   "cell_type": "code",
   "execution_count": null,
   "metadata": {
    "id": "Ev-M-RBm8hmb"
   },
   "outputs": [],
   "source": []
  },
  {
   "cell_type": "markdown",
   "metadata": {
    "id": "06aOSsIe8hmb"
   },
   "source": [
    "## The \\__init\\__() Method <br>\n",
    "<p>This method is used in almost every created class, and called only once upon the creation of the class instance. This method will initialize all variables needed for the object.</p>"
   ]
  },
  {
   "cell_type": "code",
   "execution_count": 190,
   "metadata": {
    "id": "QhZthPgL8hmc"
   },
   "outputs": [
    {
     "data": {
      "text/plain": [
       "'accord purple'"
      ]
     },
     "execution_count": 190,
     "metadata": {},
     "output_type": "execute_result"
    }
   ],
   "source": [
    "# we will now re-declare car, erraseing the classes that were in it from before\n",
    "class Car():\n",
    "    # this si how you start a class\n",
    "    # doing this will erase and start over the class Car from above\n",
    "    # always start with self\n",
    "    # aka: self is always the first parameter of a class\n",
    "    def __init__(self, color, model, wheels=4):\n",
    "        # this makes it is so you have to enter car color when making a new instance\n",
    "        self.color = color\n",
    "        self.model = model\n",
    "        self.wheels = wheels\n",
    "    def __str__(self):\n",
    "        return f\"{self.model} {self.color}\"\n",
    "   \n",
    "ford = Car(\"blue\", \"spaceship\")\n",
    "chevy = Car(\"green\", \"volt\")\n",
    "honda = Car(\"purple\", \"accord\")\n",
    "toyota = Car(\"yellow\", \"camri\")\n",
    "\n",
    "Car.__str__(honda)"
   ]
  },
  {
   "cell_type": "markdown",
   "metadata": {
    "id": "74dG5mlq8hmc"
   },
   "source": [
    "##### The 'self' Attribute <br>\n",
    "<p>This attribute is required to keep track of specific instance's attributes. Without the self attribute, the program would not know how to reference or keep track of an instance's attributes.</p>"
   ]
  },
  {
   "cell_type": "code",
   "execution_count": 48,
   "metadata": {
    "id": "VLn0T2Q98hmc"
   },
   "outputs": [
    {
     "name": "stdout",
     "output_type": "stream",
     "text": [
      "{'color': 'black', 'make': 'Chevy'}\n",
      "{'color': 'black', 'make': 'Chevy', 'wheels': 18}\n",
      "{'color': 'red', 'make': 'Ford'}\n",
      "{'color': 'red', 'make': 'Ford'}\n",
      "{'__module__': '__main__', '__init__': <function Truck.__init__ at 0x0000018AE3E13CA0>, '__dict__': <attribute '__dict__' of 'Truck' objects>, '__weakref__': <attribute '__weakref__' of 'Truck' objects>, '__doc__': None, 'wheels': 10}\n"
     ]
    }
   ],
   "source": [
    "# see above\n",
    "# initialize attributes using __init__\n",
    "# set default attributes like wheels=4 above\n",
    "\n",
    "class Truck():\n",
    "    def __init__(self, color, make):\n",
    "        # these are class attributes\n",
    "        # that lives in the class\n",
    "        # and all instances inherit from it\n",
    "        self.color = color\n",
    "        self.make = make\n",
    "        \n",
    "\n",
    "truck1 = Truck(\"black\", \"Chevy\")\n",
    "truck2 = Truck(\"red\", \"Ford\")\n",
    "print(truck1.__dict__)\n",
    "# here we are adding an instance attribute wheels\n",
    "# to this specific instance, not to the entire class\n",
    "truck1.wheels = 18\n",
    "print(truck1.__dict__)\n",
    "print(truck2.__dict__)\n",
    "\n",
    "# if we add a class attribute now\n",
    "Truck.wheels = 10\n",
    "# and print an instance, it doesn't print wheels\n",
    "# because wheels is a class attribute, not an instance attribute\n",
    "print(truck2.__dict__)\n",
    "# but if you print the entire class attribute list\n",
    "# you can see the wheels in in there\n",
    "# class attributes take effect when an instance \n",
    "# doesn't have that specific attribute\n",
    "print(Truck.__dict__)"
   ]
  },
  {
   "cell_type": "markdown",
   "metadata": {
    "id": "mXeSi6UZ8hmd"
   },
   "source": [
    "## Class Attributes <br>\n",
    "<p>While variables are inside of a class, they are referred to as attributes and not variables. When someone says 'attribute' you know they're speaking about a class. Attributes can be initialized through the init method, or outside of it.</p>"
   ]
  },
  {
   "cell_type": "markdown",
   "metadata": {
    "id": "alHkVT5X8hmd"
   },
   "source": [
    "##### Initializing Attributes"
   ]
  },
  {
   "cell_type": "code",
   "execution_count": null,
   "metadata": {
    "id": "bcGA_XPw8hme"
   },
   "outputs": [],
   "source": [
    "# see above"
   ]
  },
  {
   "cell_type": "markdown",
   "metadata": {
    "id": "PwY7mCZY8hmf"
   },
   "source": [
    "##### Accessing Class Attributes"
   ]
  },
  {
   "cell_type": "code",
   "execution_count": null,
   "metadata": {
    "id": "iZKERg8g8hmf",
    "scrolled": true
   },
   "outputs": [],
   "source": [
    "# See Above"
   ]
  },
  {
   "cell_type": "markdown",
   "metadata": {
    "id": "aKbrazYx8hmf"
   },
   "source": [
    "##### Setting Defaults for Attributes"
   ]
  },
  {
   "cell_type": "code",
   "execution_count": null,
   "metadata": {
    "id": "FQqfRqQD8hmg"
   },
   "outputs": [],
   "source": [
    "class Bike(\n",
    "    def __init__ (self, c, b=\"schwin\", w):\n",
    "    self.color = c\n",
    "    self.brand = b\n",
    "    self wheels = w\n",
    "\n",
    "# note: if an object doesn't have a __dict__ method (like list, int, string ect) you can not set arbitrary attributes\n"
   ]
  },
  {
   "cell_type": "markdown",
   "metadata": {
    "id": "8X6QVlRf8hmg"
   },
   "source": [
    "##### Changing Class Attributes <br>\n",
    "<p>Keep in mind there are global class attributes and then there are attributes only available to each class instance which won't effect other classes.</p>"
   ]
  },
  {
   "cell_type": "code",
   "execution_count": null,
   "metadata": {
    "id": "sZElN-HY8hmg"
   },
   "outputs": [],
   "source": []
  },
  {
   "cell_type": "code",
   "execution_count": null,
   "metadata": {
    "id": "Hzo44r9-8hmh"
   },
   "outputs": [],
   "source": []
  },
  {
   "cell_type": "markdown",
   "metadata": {
    "id": "x0PvXjhn8hmh"
   },
   "source": [
    "##### In-Class Exercise #2 - Add a doors and seats attribute to your 'Car' class then print out two different instances with different doors and seats"
   ]
  },
  {
   "cell_type": "code",
   "execution_count": 191,
   "metadata": {
    "id": "IcKHXbgk8hmi"
   },
   "outputs": [
    {
     "name": "stdout",
     "output_type": "stream",
     "text": [
      "Doors: 2/mSeats:2\n",
      "Doors: 4/mSeats:5\n",
      "<class '__main__.Car'>\n"
     ]
    }
   ],
   "source": [
    "# create a new car class\n",
    "class Car:\n",
    "# if we wanted to set class attribute doors = 4\n",
    "# but if we did this, every single object would point\n",
    "# to this specific object/variable with value 4\n",
    "    def __init__(self, doors, seats):\n",
    "        self.doors = doors\n",
    "        self.seats = seats\n",
    "    def __str__(self):\n",
    "        return f\"Doors: {self.doors}/mSeats:{self.seats}\"\n",
    "        \n",
    "car1 = Car(2, 2)\n",
    "car2 = Car(4, 5)\n",
    "\n",
    "print(car1)\n",
    "print(car2)\n",
    "print()\n",
    "\n"
   ]
  },
  {
   "cell_type": "markdown",
   "metadata": {
    "id": "8uVhoPX38hmi"
   },
   "source": [
    "## Class Methods <br>\n",
    "<p>While inside of a class, functions are referred to as 'methods'. If you hear someone mention methods, they're speaking about classes. Methods are essentially functions, but only callable on the instances of a class.</p>"
   ]
  },
  {
   "cell_type": "markdown",
   "metadata": {
    "id": "KFz2X_DB8hmi"
   },
   "source": [
    "##### Creating"
   ]
  },
  {
   "cell_type": "code",
   "execution_count": 81,
   "metadata": {
    "id": "unPNnowA8hmi"
   },
   "outputs": [
    {
     "name": "stdout",
     "output_type": "stream",
     "text": [
      "<bound method Employee.full_name of <__main__.Employee object at 0x0000018AE3EABAC0>>\n",
      "50000\n",
      "52500\n",
      "<bound method Employee.full_name of <__main__.Employee object at 0x0000018AE3EABAC0>>\n"
     ]
    },
    {
     "ename": "NameError",
     "evalue": "name 'first' is not defined",
     "output_type": "error",
     "traceback": [
      "\u001b[1;31m---------------------------------------------------------------------------\u001b[0m",
      "\u001b[1;31mNameError\u001b[0m                                 Traceback (most recent call last)",
      "\u001b[1;32m<ipython-input-81-2248a303034a>\u001b[0m in \u001b[0;36m<module>\u001b[1;34m\u001b[0m\n\u001b[0;32m     31\u001b[0m \u001b[1;33m\u001b[0m\u001b[0m\n\u001b[0;32m     32\u001b[0m \u001b[0mprint\u001b[0m\u001b[1;33m(\u001b[0m\u001b[0memp1\u001b[0m\u001b[1;33m.\u001b[0m\u001b[0mfull_name\u001b[0m\u001b[1;33m)\u001b[0m\u001b[1;33m\u001b[0m\u001b[1;33m\u001b[0m\u001b[0m\n\u001b[1;32m---> 33\u001b[1;33m \u001b[0memp1\u001b[0m\u001b[1;33m.\u001b[0m\u001b[0mchange_last_name\u001b[0m\u001b[1;33m(\u001b[0m\u001b[1;34m\"Smith\"\u001b[0m\u001b[1;33m)\u001b[0m\u001b[1;33m\u001b[0m\u001b[1;33m\u001b[0m\u001b[0m\n\u001b[0m",
      "\u001b[1;32m<ipython-input-81-2248a303034a>\u001b[0m in \u001b[0;36mchange_last_name\u001b[1;34m(self, last)\u001b[0m\n\u001b[0;32m     18\u001b[0m     \u001b[1;32mdef\u001b[0m \u001b[0mchange_last_name\u001b[0m\u001b[1;33m(\u001b[0m\u001b[0mself\u001b[0m\u001b[1;33m,\u001b[0m \u001b[0mlast\u001b[0m\u001b[1;33m)\u001b[0m\u001b[1;33m:\u001b[0m\u001b[1;33m\u001b[0m\u001b[1;33m\u001b[0m\u001b[0m\n\u001b[0;32m     19\u001b[0m         \u001b[0mself\u001b[0m\u001b[1;33m.\u001b[0m\u001b[0mlast\u001b[0m \u001b[1;33m=\u001b[0m \u001b[0mlast\u001b[0m\u001b[1;33m\u001b[0m\u001b[1;33m\u001b[0m\u001b[0m\n\u001b[1;32m---> 20\u001b[1;33m         \u001b[0mself\u001b[0m\u001b[1;33m.\u001b[0m\u001b[0memail\u001b[0m \u001b[1;33m=\u001b[0m \u001b[0mfirst\u001b[0m \u001b[1;33m+\u001b[0m \u001b[1;34m\".\"\u001b[0m\u001b[1;33m+\u001b[0m \u001b[0mlast\u001b[0m \u001b[1;33m+\u001b[0m\u001b[1;34m\"@company.org\"\u001b[0m\u001b[1;33m\u001b[0m\u001b[1;33m\u001b[0m\u001b[0m\n\u001b[0m\u001b[0;32m     21\u001b[0m \u001b[1;33m\u001b[0m\u001b[0m\n\u001b[0;32m     22\u001b[0m \u001b[0memp1\u001b[0m \u001b[1;33m=\u001b[0m \u001b[0mEmployee\u001b[0m\u001b[1;33m(\u001b[0m\u001b[1;34m\"Leo\"\u001b[0m\u001b[1;33m,\u001b[0m \u001b[1;34m\"Masi\"\u001b[0m\u001b[1;33m,\u001b[0m \u001b[1;36m50000\u001b[0m\u001b[1;33m)\u001b[0m\u001b[1;33m\u001b[0m\u001b[1;33m\u001b[0m\u001b[0m\n",
      "\u001b[1;31mNameError\u001b[0m: name 'first' is not defined"
     ]
    }
   ],
   "source": [
    "# a mthod is a function that can only be called\n",
    "# on a specific class\n",
    "\n",
    "class Employee():\n",
    "    raise_amount = 1.05\n",
    "    def __init__(self, first, last, salary):\n",
    "        self.first = first\n",
    "        self.last = last\n",
    "        self.salary = salary\n",
    "        self.email = first + \".\"+ last +\"@company.org\"\n",
    "        \n",
    "    def full_name(self):\n",
    "        return f\"{self.first} {self.last}\"\n",
    "\n",
    "    def apply_raise(self):\n",
    "        self.salary = int(self.salary * Employee.raise_amount)\n",
    "    \n",
    "    def change_last_name(self, last):\n",
    "        self.last = last\n",
    "        self.email = first + \".\"+ last +\"@company.org\"\n",
    "\n",
    "emp1 = Employee(\"Leo\", \"Masi\", 50000)\n",
    "emp2 = Employee(\"Jessica\", \"Rinks\", 90000)\n",
    "\n",
    "emp1.full_name()\n",
    "print(emp1.full_name)\n",
    "\n",
    "print(emp1.salary)\n",
    "emp1.apply_raise()\n",
    "print(emp1.salary)\n",
    "\n",
    "print(emp1.full_name)\n",
    "emp1.change_last_name(\"Smith\")"
   ]
  },
  {
   "cell_type": "markdown",
   "metadata": {
    "id": "N4sM9HRq8hmj"
   },
   "source": [
    "##### Calling"
   ]
  },
  {
   "cell_type": "code",
   "execution_count": null,
   "metadata": {
    "id": "sLiDtnXs8hmj"
   },
   "outputs": [],
   "source": [
    "# See Above"
   ]
  },
  {
   "cell_type": "markdown",
   "metadata": {
    "id": "Go3kkJja8hmk"
   },
   "source": [
    "##### Modifying an Attribute's Value Through a Method"
   ]
  },
  {
   "cell_type": "code",
   "execution_count": null,
   "metadata": {
    "id": "Ez4Paryn8hmk"
   },
   "outputs": [],
   "source": []
  },
  {
   "cell_type": "markdown",
   "metadata": {
    "id": "ggkvHuzk8hmk"
   },
   "source": [
    "##### Incrementing an Attribute's Value Through a Method"
   ]
  },
  {
   "cell_type": "code",
   "execution_count": 82,
   "metadata": {
    "id": "K3_swlrA8hml"
   },
   "outputs": [
    {
     "name": "stdout",
     "output_type": "stream",
     "text": [
      "Help on class Employee in module __main__:\n",
      "\n",
      "class Employee(builtins.object)\n",
      " |  Employee(first, last, salary)\n",
      " |  \n",
      " |  Methods defined here:\n",
      " |  \n",
      " |  __init__(self, first, last, salary)\n",
      " |      Initialize self.  See help(type(self)) for accurate signature.\n",
      " |  \n",
      " |  apply_raise(self)\n",
      " |  \n",
      " |  change_last_name(self, last)\n",
      " |  \n",
      " |  full_name(self)\n",
      " |  \n",
      " |  ----------------------------------------------------------------------\n",
      " |  Data descriptors defined here:\n",
      " |  \n",
      " |  __dict__\n",
      " |      dictionary for instance variables (if defined)\n",
      " |  \n",
      " |  __weakref__\n",
      " |      list of weak references to the object (if defined)\n",
      " |  \n",
      " |  ----------------------------------------------------------------------\n",
      " |  Data and other attributes defined here:\n",
      " |  \n",
      " |  raise_amount = 1.05\n",
      "\n"
     ]
    }
   ],
   "source": [
    "help(Employee)"
   ]
  },
  {
   "cell_type": "markdown",
   "metadata": {
    "id": "aMrCOzxD8hml"
   },
   "source": [
    "##### In-Class Exercise #3 - Add a method that takes in three parameters of year, doors and seats and prints out a formatted print statement with make, model, year, seats, and doors"
   ]
  },
  {
   "cell_type": "code",
   "execution_count": 99,
   "metadata": {
    "id": "Xbg3C9uA8hmn"
   },
   "outputs": [
    {
     "name": "stdout",
     "output_type": "stream",
     "text": [
      "This car is from 2018 and is a Honda Accord              and has 4 doors and 4 seats\n"
     ]
    }
   ],
   "source": [
    "class Car():\n",
    "    \n",
    "    def __init__(self, make, model):\n",
    "        self.make = make\n",
    "        self.model = model\n",
    "        # do something\n",
    "    \n",
    "    def add_details(self, year, door, seats):\n",
    "        self.year = year\n",
    "        self.door = door\n",
    "        self.seats = seats\n",
    "        print(f\"This car is from {self.year} and is a {self.make} {self.model}\\\n",
    "              and has {self.door} doors and {self.seats} seats\")\n",
    "\n",
    "\n",
    "\n",
    "car1 = Car(\"Honda\", \"Accord\")\n",
    "car1.add_details(2018, 4, 4)\n",
    "\n",
    "\n",
    "    # Create class with 2 paramters inside of the __init__ which are make and model\n",
    "\n",
    "# Inside of the Car class create a method that has 4 parameter in total (self,year,door,seats)\n",
    "\n",
    "# Output: This car is from 2019 and is a Ford Expolorer and has 4 doors and 5 seats\n",
    "\n"
   ]
  },
  {
   "cell_type": "markdown",
   "metadata": {
    "id": "smhQgCiO8hmn"
   },
   "source": [
    "## Inheritance <br>\n",
    "<p>You can create a child-parent relationship between two classes by using inheritance. What this allows you to do is have overriding methods, but also inherit traits from the parent class. Think of it as an actual parent and child, the child will inherit the parent's genes, as will the classes in OOP</p>"
   ]
  },
  {
   "cell_type": "markdown",
   "metadata": {
    "id": "6IFMqD2o8hmn"
   },
   "source": [
    "##### Syntax for Inheriting from a Parent Class"
   ]
  },
  {
   "cell_type": "code",
   "execution_count": 107,
   "metadata": {
    "id": "coDRlalQ8hmn"
   },
   "outputs": [
    {
     "name": "stdout",
     "output_type": "stream",
     "text": [
      " Lassie has 4 legs brown fur and is a dog\n"
     ]
    }
   ],
   "source": [
    "# when we create a new instance in an exiting class, we are inhereting stuff from the class\n",
    "# you can also inherit stuff from a different class\n",
    "\n",
    "class Animal():\n",
    "    alive = True\n",
    "    def __init__(self, name, species, legs=4):\n",
    "        self.name = name\n",
    "        self.species = species\n",
    "        self.legs = legs\n",
    "        \n",
    "    def make_sound(self):\n",
    "        print(\"Some generic sound\")\n",
    "        \n",
    "# now we are going to create a child class.  Dog will be a child of Animal\n",
    "# step 1, but parent as an input into child class\n",
    "class Dog(Animal):\n",
    "    # constructor method\n",
    "    # this init method will override the init method from above\n",
    "    def __init__(self, name, species, legs, color):\n",
    "\n",
    "#         Animal.__init__(self, name, species, legs)\n",
    "          self.color = color\n",
    "    \n",
    "    def print_info(self):\n",
    "        print(f\" {self.name} has {self.legs} legs {self.color} fur and is a {self.species}\")\n",
    "        \n",
    "\n",
    "dog1 = Dog(\"Lassie\", \"dog\", 4, \"brown\")\n",
    "dog1.print_info()        \n",
    "    \n"
   ]
  },
  {
   "cell_type": "markdown",
   "metadata": {
    "id": "7Osyxd-P8hmo"
   },
   "source": [
    "##### The \\__init\\__() Method for a Child Class - super()"
   ]
  },
  {
   "cell_type": "code",
   "execution_count": 109,
   "metadata": {
    "id": "vjb6c4C28hmo",
    "scrolled": true
   },
   "outputs": [
    {
     "name": "stdout",
     "output_type": "stream",
     "text": [
      " Lassie has 4 legs brown fur and is a dog\n",
      "Some generic sound\n"
     ]
    }
   ],
   "source": [
    "# Creation of Parent Class\n",
    "class Animal():\n",
    "    acceleration = 9.8\n",
    "    \n",
    "    def __init__(self,name,species,legs=4):\n",
    "        self.name = name\n",
    "        self.species = species\n",
    "        self.legs = legs\n",
    "        \n",
    "    def makeSound(self):\n",
    "        print(\"Some Generic Sound\")\n",
    "        \n",
    "# Creation of Child Class\n",
    "class Dog(Animal):\n",
    "    speed = 15\n",
    "    \n",
    "    def printInfo(self):\n",
    "        print(f\"The Dog has {self.speed}mph in speed and {self.acceleration} in acceleration\")\n",
    "\n",
    "        \n",
    "#class ChildClass(GrandParentClass, ParentClass)\n",
    "class Mut(Dog):\n",
    "    color = 'black & brown'\n",
    "    \n",
    "    # Constructor Overide inside of child inheritance\n",
    "    def __init__(self,name,species,color,legs=4):\n",
    "        super().__init__(name,species,legs)\n",
    "        self.color = color\n",
    "    \n",
    "    def makeSound(self):\n",
    "        print(\"Bark\")\n",
    "        \n",
    "lassie = Dog(\"Lassie\",\"Dog\")\n",
    "buster = Mut(\"Buster\",\"Mut\",\"black\")\n",
    "print(buster.name)\n",
    "print(buster.makeSound())\n",
    "lassie.printInfo()\n",
    "print(lassie.name)"
   ]
  },
  {
   "cell_type": "markdown",
   "metadata": {
    "id": "J5viuIot8hmp"
   },
   "source": [
    "##### Defining Attributes and Methods for the Child Class"
   ]
  },
  {
   "cell_type": "code",
   "execution_count": null,
   "metadata": {
    "id": "b0ov4m2W8hmp"
   },
   "outputs": [],
   "source": [
    "# See Above"
   ]
  },
  {
   "cell_type": "markdown",
   "metadata": {
    "id": "HumTG-g08hmq"
   },
   "source": [
    "##### Method Overriding"
   ]
  },
  {
   "cell_type": "code",
   "execution_count": null,
   "metadata": {
    "id": "rboeoN1C8hmq"
   },
   "outputs": [],
   "source": [
    "# See Above"
   ]
  },
  {
   "cell_type": "markdown",
   "metadata": {
    "id": "XlKxuoWQ8hmq"
   },
   "source": [
    "## Classes as Attributes <br>\n",
    "<p>Classes can also be used as attributes within another class. This is useful in situations where you need to keep variables locally stored, instead of globally stored.</p>"
   ]
  },
  {
   "cell_type": "code",
   "execution_count": 119,
   "metadata": {
    "id": "MAEio9ze8hmr"
   },
   "outputs": [],
   "source": [
    "class Battery():\n",
    "    volts = 7.8\n",
    "    def __init__(self, cells):\n",
    "        self.cells = cells\n",
    "        \n",
    "class Car():\n",
    "    def __init__(self, year, make, model, battery):\n",
    "        self.year = year\n",
    "        self.make = make\n",
    "        self.model = model\n",
    "        self.battery = battery\n",
    "        \n",
    "battery1 = Battery(20)\n",
    "car1 = Car(2019, \"Tesla\", \"Model X\", battery1)"
   ]
  },
  {
   "cell_type": "markdown",
   "metadata": {
    "id": "Pr4OzgmV8hmr"
   },
   "source": [
    "# Exercises"
   ]
  },
  {
   "cell_type": "markdown",
   "metadata": {
    "id": "htnmXQEa8hms"
   },
   "source": [
    "### Exercise 1 - Turn the shopping cart program from yesterday into an object-oriented program"
   ]
  },
  {
   "cell_type": "code",
   "execution_count": 171,
   "metadata": {
    "id": "A7trILwJ8hms"
   },
   "outputs": [
    {
     "ename": "NameError",
     "evalue": "name 'self' is not defined",
     "output_type": "error",
     "traceback": [
      "\u001b[1;31m---------------------------------------------------------------------------\u001b[0m",
      "\u001b[1;31mNameError\u001b[0m                                 Traceback (most recent call last)",
      "\u001b[1;32m<ipython-input-171-ba4421038bb7>\u001b[0m in \u001b[0;36m<module>\u001b[1;34m\u001b[0m\n\u001b[0;32m     94\u001b[0m \u001b[1;33m\u001b[0m\u001b[0m\n\u001b[0;32m     95\u001b[0m \u001b[1;33m\u001b[0m\u001b[0m\n\u001b[1;32m---> 96\u001b[1;33m \u001b[0mCart\u001b[0m\u001b[1;33m.\u001b[0m\u001b[0mask_action\u001b[0m\u001b[1;33m(\u001b[0m\u001b[1;33m)\u001b[0m\u001b[1;33m\u001b[0m\u001b[1;33m\u001b[0m\u001b[0m\n\u001b[0m",
      "\u001b[1;32m<ipython-input-171-ba4421038bb7>\u001b[0m in \u001b[0;36mask_action\u001b[1;34m()\u001b[0m\n\u001b[0;32m     17\u001b[0m             \u001b[0mclear_output\u001b[0m\u001b[1;33m(\u001b[0m\u001b[1;33m)\u001b[0m\u001b[1;33m\u001b[0m\u001b[1;33m\u001b[0m\u001b[0m\n\u001b[0;32m     18\u001b[0m             \u001b[1;32mif\u001b[0m \u001b[0maction\u001b[0m\u001b[1;33m.\u001b[0m\u001b[0mlower\u001b[0m\u001b[1;33m(\u001b[0m\u001b[1;33m)\u001b[0m \u001b[1;33m==\u001b[0m \u001b[1;34m\"quit\"\u001b[0m\u001b[1;33m:\u001b[0m\u001b[1;33m\u001b[0m\u001b[1;33m\u001b[0m\u001b[0m\n\u001b[1;32m---> 19\u001b[1;33m                 \u001b[0mCart\u001b[0m\u001b[1;33m.\u001b[0m\u001b[0mquit\u001b[0m\u001b[1;33m(\u001b[0m\u001b[0mself\u001b[0m\u001b[1;33m,\u001b[0m \u001b[1;34m\"quit\"\u001b[0m\u001b[1;33m)\u001b[0m\u001b[1;33m\u001b[0m\u001b[1;33m\u001b[0m\u001b[0m\n\u001b[0m\u001b[0;32m     20\u001b[0m             \u001b[1;32melif\u001b[0m \u001b[0maction\u001b[0m\u001b[1;33m.\u001b[0m\u001b[0mlower\u001b[0m\u001b[1;33m(\u001b[0m\u001b[1;33m)\u001b[0m \u001b[1;33m==\u001b[0m \u001b[1;34m\"show\"\u001b[0m\u001b[1;33m:\u001b[0m\u001b[1;33m\u001b[0m\u001b[1;33m\u001b[0m\u001b[0m\n\u001b[0;32m     21\u001b[0m                 \u001b[0mCart\u001b[0m\u001b[1;33m.\u001b[0m\u001b[0mshow_cart\u001b[0m\u001b[1;33m(\u001b[0m\u001b[1;33m)\u001b[0m\u001b[1;33m\u001b[0m\u001b[1;33m\u001b[0m\u001b[0m\n",
      "\u001b[1;31mNameError\u001b[0m: name 'self' is not defined"
     ]
    }
   ],
   "source": [
    "# Brian-  This function does not run, there are pieces of code missing because either I didn't\n",
    "# know how to do it or I ran out of time\n",
    "\n",
    "from IPython.display import clear_output\n",
    "\n",
    "#define class and define class methods which will be called in the shopping_cart() function below\n",
    "\n",
    "class Cart():\n",
    "    \n",
    "    \n",
    "    def __init__(self, item, quantity, price=1.00):\n",
    "        # default price is everything's a dollar unless otherwise specified\n",
    "        self.item = item\n",
    "        self.quantity = quantity\n",
    "        self.price = price\n",
    "      \n",
    "    def what_to_buy(self, item, quantity):\n",
    "        self.item = input[\"What item do you want to buy?\"]\n",
    "        self.quantity = input[\"How many of that item?\"]\n",
    "  \n",
    "    \n",
    "    def quit():\n",
    "        print(\"you have quit shopping\")\n",
    "        break\n",
    "     \n",
    "    \n",
    "    def show_cart():\n",
    "        # show what's in the cart\n",
    "        # if there are no items in the cart\n",
    "            print(\"Your cart is empty\")\n",
    "        #else, print all items in the cart\n",
    "            #print all items\n",
    "        # ask what they want to do now\n",
    "        shopping_cart()\n",
    "\n",
    "\n",
    "    def delete_from_cart():\n",
    "        item = input(\"What item would you like to order?\")\n",
    "        quantity = input(\"How many would you like to order?\")\n",
    "        clear_output()\n",
    "        if item in cart:\n",
    "            already_count = cart[item]\n",
    "            cart[item] = int(already_count) - int(quantity)\n",
    "            print(str(quantity)+\" \"+ item + \" has been deleted from your cart\")\n",
    "        else: \n",
    "            print(item +\" is not in your cart\")\n",
    "        # ask what they want to do now\n",
    "        shopping_cart()\n",
    "          \n",
    "    \n",
    "    def add_to_cart():\n",
    "        item = input(\"What item would you like to order?\")\n",
    "        quantity = input(\"How many would you like to order?\")\n",
    "        clear_output()\n",
    "        # see if the item alreay exists\n",
    "        if item in cart:\n",
    "            already_count = cart[item]\n",
    "            cart[item] = int(quantity) + int(already_count)\n",
    "        else: \n",
    "            item = Cart()\n",
    "            item.quantity = quantity\n",
    "        # ask what they want to do now\n",
    "        shopping_cart()\n",
    "    \n",
    "    def clear_cart(self):\n",
    "        sure = input(\"Are you sure you want to clearn your cart? Y/N\")\n",
    "        if sure.lower == \"y\":\n",
    "            cart.clear()\n",
    "            print(\"Your cart has been clearned\")\n",
    "        else:\n",
    "        #start over \n",
    "            shopping_cart()\n",
    "        \n",
    "        \n",
    "# Main program that does the following:  \n",
    "#1. calls Cart() (initializes a new cart)\n",
    "#2. Based on user input, calls other class methods to add, show, delete, or clear the cart\n",
    "\n",
    "# initialize a new cart and ask users what they want to do\n",
    "def shopping_cart():\n",
    "    # initialize a new cart\n",
    "    Cart()\n",
    "    #ask if they want to quit, add, show, delete, or clear\n",
    "    while True:\n",
    "        action = input(\"Do you want to add, delete, show, clear or quit?\")\n",
    "        clear_output()\n",
    "        #based on their answer, call the appropriate class method\n",
    "        if action.lower() == \"quit\":\n",
    "            print(\"Your have quit shopping\")\n",
    "            break\n",
    "        elif action.lower() == \"add\":\n",
    "            # ask what they want to buy\n",
    "            cart.what_to_buy()\n",
    "            # use the class method add_to_cart\n",
    "            cart.add_to_cart()\n",
    "        elif action.lower() == \"show\":   \n",
    "            # use the class method show_cart\n",
    "            cart.show_cart()\n",
    "        elif action.lower() == \"delete\":\n",
    "            # use the class method delete_from_cart\n",
    "            cart.delete_from_cart()\n",
    "        elif action.lower() == \"clear\":\n",
    "            # use the class method clear_cart\n",
    "            cart.clear_cart()\n",
    "       \n",
    "     "
   ]
  },
  {
   "cell_type": "markdown",
   "metadata": {
    "id": "jt3aoqQ98hmt"
   },
   "source": [
    "### Exercise 2 - Write a Python class which has two methods get_String and print_String. get_String accept a string from the user and print_String print the string in upper case"
   ]
  },
  {
   "cell_type": "code",
   "execution_count": 18,
   "metadata": {
    "id": "cbUlb-u28hmt"
   },
   "outputs": [
    {
     "ename": "IndentationError",
     "evalue": "expected an indented block (<ipython-input-18-7f87ea08b824>, line 6)",
     "output_type": "error",
     "traceback": [
      "\u001b[1;36m  File \u001b[1;32m\"<ipython-input-18-7f87ea08b824>\"\u001b[1;36m, line \u001b[1;32m6\u001b[0m\n\u001b[1;33m    def get_String(self):\u001b[0m\n\u001b[1;37m    ^\u001b[0m\n\u001b[1;31mIndentationError\u001b[0m\u001b[1;31m:\u001b[0m expected an indented block\n"
     ]
    }
   ],
   "source": [
    "# this one also doesn't work AACCCKKKKKKK\n",
    "\n",
    "class String:\n",
    "    def __init__(self, text=\"\"):\n",
    "        self.text = text\n",
    "        \n",
    "        \n",
    "    def get_String(self):\n",
    "        text = input[\"Enter some text\"]\n",
    "        \n",
    "    def print_String(self, text):\n",
    "        print(({self.text}).upper())\n",
    "        \n",
    "String()\n",
    "String.get_String()\n"
   ]
  },
  {
   "cell_type": "code",
   "execution_count": 159,
   "metadata": {},
   "outputs": [
    {
     "name": "stdout",
     "output_type": "stream",
     "text": [
      "[1, 3, 12, 0, 0]\n",
      "[1, 7, 8, 10, 12, 4, 0, 0, 0, 0]\n"
     ]
    }
   ],
   "source": [
    "# Algo Night Question\n",
    "#Given an array nums, write a function to move all zeroes to the end of it while maintaining the relative order of \n",
    "#the non-zero elements.\n",
    "array1 = [0,1,0,3,12]\n",
    "# Output:\n",
    "# [1, 3, 12, 0, 0]\n",
    "\n",
    "def relocate_zero(a):\n",
    "    count = a.count(0)\n",
    "    while 0 in a:\n",
    "        a.remove(0)\n",
    "    for c in range(count):\n",
    "        a.append(0)\n",
    "    print(a)\n",
    "\n",
    "array2 = [1,7,0,0,8,0,10,12,0,4]\n",
    "# Output:\n",
    "# [1, 7, 8, 10, 12, 4, 0, 0, 0, 0]\n",
    "\n",
    "relocate_zero(array1)\n",
    "relocate_zero(array2)"
   ]
  },
  {
   "cell_type": "code",
   "execution_count": null,
   "metadata": {},
   "outputs": [],
   "source": [
    "# # Given an array of integers, determine whether the array is monotonic or not.  (whether the numbers are in number order forwards or backwards)\n",
    "# A = [6, 5, 4, 4] \n",
    "# # Output:\n",
    "# # True\n",
    "\n",
    "# B = [1,1,1,3,3,4,3,2,4,2]\n",
    "# # Output:\n",
    "# # False\n",
    "# C = [1,1,2,3,7]\n",
    "# # Output:\n",
    "# # True\n"
   ]
  }
 ],
 "metadata": {
  "colab": {
   "name": "Thursday_Lesson_Inclass_Lecture.ipynb",
   "provenance": []
  },
  "kernelspec": {
   "display_name": "Python 3",
   "language": "python",
   "name": "python3"
  },
  "language_info": {
   "codemirror_mode": {
    "name": "ipython",
    "version": 3
   },
   "file_extension": ".py",
   "mimetype": "text/x-python",
   "name": "python",
   "nbconvert_exporter": "python",
   "pygments_lexer": "ipython3",
   "version": "3.8.3"
  }
 },
 "nbformat": 4,
 "nbformat_minor": 1
}
